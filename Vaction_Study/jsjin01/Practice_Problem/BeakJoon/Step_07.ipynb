{
 "cells": [
  {
   "cell_type": "code",
   "execution_count": null,
   "metadata": {},
   "outputs": [
    {
     "name": "stdout",
     "output_type": "stream",
     "text": [
      "4 4 4 \n",
      "6 6 6 \n",
      "5 6 100 \n",
      "\n"
     ]
    }
   ],
   "source": [
    "## Problem 01\n",
    "\n",
    "n, m = map(int, input().split())\n",
    "\n",
    "##참조가 이상하게 될 수 있음 => 즉, 다 같은 행을 가르킴\n",
    "#a_array = [[0]*m]*n\n",
    "#b_array = [[0]*m]*n\n",
    "#sum_array = [[0]*m]*n\n",
    "#for k in range (0, n):\n",
    "#    a_array[k] = list(map(int,input().split()))\n",
    "#\n",
    "#for k in range (0, n):\n",
    "#    b_array[k] = list(map(int,input().split()))\n",
    "\n",
    "a_array = [list(map(int,input().split())) for a in range (n)]\n",
    "b_array = [list(map(int,input().split())) for b in range (n)]\n",
    "\n",
    "sum_array = [[0 for z in range(m)] for t in range (n)]\n",
    "\n",
    "\n",
    "for i in range (0,n):\n",
    "    for j in range(0,m):\n",
    "        sum_array[j][i] = a_array[j][i] + b_array[j][i]\n",
    "\n",
    "s = \"\"\n",
    "\n",
    "for i in range (0,n):\n",
    "    for j in range(0,m):\n",
    "        s += str(sum_array[i][j]) + \" \"\n",
    "    s += \"\\n\" \n",
    "\n",
    "print(s)\n"
   ]
  },
  {
   "cell_type": "code",
   "execution_count": null,
   "metadata": {},
   "outputs": [
    {
     "name": "stdout",
     "output_type": "stream",
     "text": [
      "90\n",
      "4 6\n"
     ]
    }
   ],
   "source": [
    "## Problem 02\n",
    "\n",
    "large_number = -1\n",
    "large_n = 0\n",
    "large_m = 0\n",
    "nine_array = [list(map(int,input().split())) for m in range (9)]\n",
    "\n",
    "for i in range(9):\n",
    "    for j in range(9):\n",
    "        if large_number < nine_array[i][j]:\n",
    "            large_number = nine_array[i][j]\n",
    "            large_n = i + 1\n",
    "            large_m = j + 1\n",
    "\n",
    "print(large_number)\n",
    "print(large_n, large_m)\n",
    "\n"
   ]
  },
  {
   "cell_type": "code",
   "execution_count": null,
   "metadata": {},
   "outputs": [
    {
     "name": "stdout",
     "output_type": "stream",
     "text": [
      "AABCDDafzz09121a8EWg6P5h3kx\n"
     ]
    }
   ],
   "source": [
    "##Problem 03\n",
    "\n",
    "twentyfive_array = [[\"\" for n in range(15)] for m in range (5)]\n",
    "s =\"\"\n",
    "\n",
    "for n in range(5):\n",
    "    text = input()\n",
    "    for letter in range(len(text)):\n",
    "        twentyfive_array[n][letter] = text[letter]\n",
    "\n",
    "\n",
    "for m in range(15):\n",
    "    for n in range(5):\n",
    "##      if twentyfive_array[n][m] != \"\":  => 불필요한 연산 줄이기\n",
    "        s += twentyfive_array[n][m]\n",
    "\n",
    "print(s)\n",
    "\n"
   ]
  },
  {
   "cell_type": "code",
   "execution_count": null,
   "metadata": {},
   "outputs": [
    {
     "name": "stdout",
     "output_type": "stream",
     "text": [
      "260\n"
     ]
    }
   ],
   "source": [
    "## Problem 04\n",
    "#3~4중첩은 해결하지 못함\n",
    "# paper_n = int(input())\n",
    "\n",
    "# papers = [list(map(int, input().split())) for n in range(paper_n)]\n",
    "# overlapping_part = 0\n",
    "\n",
    "# for standard_paper in range (paper_n):\n",
    "#     x1, y1 = papers[standard_paper]\n",
    "#     for comparison_paper in range(standard_paper + 1, paper_n):\n",
    "#         x2, y2 = papers[comparison_paper]\n",
    "\n",
    "#         # 내장함수 최대한으로 사용 => 직접 계산: 코드가 복잡해짐\n",
    "#         x_overlap = max(0, min(x1 + 10, x2 + 10) - max(x1, x2))\n",
    "#         y_overlap = max(0, min(y1 + 10, y2 + 10) - max(y1, y2))\n",
    "\n",
    "#         overlapping_part += x_overlap * y_overlap\n",
    "\n",
    "\n",
    "# print(100*paper_n - overlapping_part)\n",
    "\n",
    "#간단하게 생각하기 => 겹치는 부분을 빼는것이 아니라 색종이 부분만 색칠하면 넓이 계산이 쉬워짐\n",
    "paper_n = int(input())\n",
    "\n",
    "canvus = [[0 for n in range (100) ] for m in range(100)]\n",
    "sum = 0 \n",
    "for r in range(paper_n):\n",
    "    x, y = map(int, input().split())\n",
    "    for a in range(x, x+10):\n",
    "        for b in range(y, y+10):\n",
    "            canvus[a][b] = 1\n",
    "\n",
    "for n in range(100):\n",
    "    for m in range(100):\n",
    "        sum += canvus[n][m]\n",
    "\n",
    "print(sum)"
   ]
  }
 ],
 "metadata": {
  "kernelspec": {
   "display_name": "Python 3",
   "language": "python",
   "name": "python3"
  },
  "language_info": {
   "codemirror_mode": {
    "name": "ipython",
    "version": 3
   },
   "file_extension": ".py",
   "mimetype": "text/x-python",
   "name": "python",
   "nbconvert_exporter": "python",
   "pygments_lexer": "ipython3",
   "version": "3.11.9"
  }
 },
 "nbformat": 4,
 "nbformat_minor": 2
}
