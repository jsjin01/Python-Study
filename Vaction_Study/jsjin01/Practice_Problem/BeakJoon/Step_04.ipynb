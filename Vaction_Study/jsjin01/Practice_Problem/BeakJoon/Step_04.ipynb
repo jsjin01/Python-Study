{
 "cells": [
  {
   "cell_type": "code",
   "execution_count": 7,
   "metadata": {},
   "outputs": [
    {
     "name": "stdout",
     "output_type": "stream",
     "text": [
      "[1, 4, 1, 2, 4, 2, 4, 2, 3, 4, 4]\n",
      "3\n"
     ]
    }
   ],
   "source": [
    "#문제 1\n",
    "num = int(input())\n",
    "num_array = list(map(int, input().split()))\n",
    "select_num = int(input())\n",
    "rest_count = 0\n",
    "\n",
    "for i in range (num):\n",
    "    if(num_array[i] == select_num):\n",
    "        rest_count += 1\n",
    "\n",
    "print(rest_count)"
   ]
  },
  {
   "cell_type": "code",
   "execution_count": 18,
   "metadata": {},
   "outputs": [
    {
     "name": "stdout",
     "output_type": "stream",
     "text": [
      "1 4 2 3 \n"
     ]
    }
   ],
   "source": [
    "#문제 2\n",
    "N, X = map(int, input().split())\n",
    "num_array = list(map(int, input().split()))\n",
    "select_array : list = []\n",
    "\n",
    "for i in range (N):\n",
    "    if(num_array[i] < X):\n",
    "        select_array.append(num_array[i])\n",
    "\n",
    "s = \"\"\n",
    "for i in select_array:\n",
    "    s += str(i) + \" \" \n",
    "\n",
    "print(s)"
   ]
  },
  {
   "cell_type": "code",
   "execution_count": 19,
   "metadata": {},
   "outputs": [
    {
     "name": "stdout",
     "output_type": "stream",
     "text": [
      "35 7\n"
     ]
    }
   ],
   "source": [
    "#문제 3\n",
    "num = int(input())\n",
    "num_array = list(map(int, input().split()))\n",
    "max = num_array[0]\n",
    "min = num_array[0]\n",
    "\n",
    "for i in range (num):\n",
    "    if(max <= num_array[i]):\n",
    "        max = num_array[i]\n",
    "    \n",
    "    if(min >= num_array[i]):\n",
    "        min = num_array[i]\n",
    "\n",
    "print(f\"{min} {max}\")\n"
   ]
  },
  {
   "cell_type": "code",
   "execution_count": 24,
   "metadata": {},
   "outputs": [
    {
     "name": "stdout",
     "output_type": "stream",
     "text": [
      "85\n",
      "7\n"
     ]
    }
   ],
   "source": [
    "#문제 4\n",
    "num_array : list = []\n",
    "\n",
    "for i in range (9):\n",
    "    num = int(input())\n",
    "    num_array.append(num)\n",
    "\n",
    "max = num_array[0]\n",
    "max_index = 0\n",
    "\n",
    "for i in range (9):\n",
    "    if(max <= num_array[i]):\n",
    "        max = num_array[i]\n",
    "        max_count = i\n",
    "\n",
    "print(max)\n",
    "print(max_count+1)"
   ]
  },
  {
   "cell_type": "code",
   "execution_count": 5,
   "metadata": {},
   "outputs": [
    {
     "name": "stdout",
     "output_type": "stream",
     "text": [
      "[3, 3, 0, 0, 0]\n",
      "[3, 3, 4, 4, 0]\n",
      "[1, 1, 1, 1, 0]\n",
      "[1, 2, 1, 1, 0]\n",
      "1 2 1 1 0 \n"
     ]
    }
   ],
   "source": [
    "#문제 5\n",
    "M, N = map(int, input().split())\n",
    "num_array = [0] * M\n",
    "for i in range (N):\n",
    "    select_array = list(map(int, input().split()))\n",
    "    select_array[0] -= 1\n",
    "    \n",
    "    for b in range (select_array[0], select_array[1]):\n",
    "        if(not num_array[b] == 0):\n",
    "            num_array[b] = 0\n",
    "\n",
    "        num_array[b] += select_array[2]\n",
    "\n",
    "s = \"\"\n",
    "\n",
    "for i in num_array:\n",
    "    s += str(i) + \" \"\n",
    "\n",
    "print(s)"
   ]
  },
  {
   "cell_type": "code",
   "execution_count": 11,
   "metadata": {},
   "outputs": [
    {
     "name": "stdout",
     "output_type": "stream",
     "text": [
      "3 1 4 2 5 \n"
     ]
    }
   ],
   "source": [
    "# 문제 6\n",
    "M, N = map(int, input().split())\n",
    "num_array = [0] * M\n",
    "\n",
    "for i in range (1, M + 1):\n",
    "    num_array[i - 1] += i\n",
    "\n",
    "for i in range (N):\n",
    "    a, b = map(int, input().split())\n",
    "    num_array[a - 1], num_array[b - 1] = num_array[b - 1], num_array[a - 1]\n",
    "\n",
    "s = \"\"\n",
    "\n",
    "for i in num_array:\n",
    "    s += str(i) + \" \"\n",
    "\n",
    "print(s)"
   ]
  },
  {
   "cell_type": "code",
   "execution_count": 39,
   "metadata": {},
   "outputs": [
    {
     "ename": "ValueError",
     "evalue": "invalid literal for int() with base 10: ''",
     "output_type": "error",
     "traceback": [
      "\u001b[1;31m---------------------------------------------------------------------------\u001b[0m",
      "\u001b[1;31mValueError\u001b[0m                                Traceback (most recent call last)",
      "Cell \u001b[1;32mIn[39], line 7\u001b[0m\n\u001b[0;32m      4\u001b[0m     student_array\u001b[38;5;241m.\u001b[39mappend(i)\n\u001b[0;32m      6\u001b[0m \u001b[38;5;28;01mfor\u001b[39;00m i \u001b[38;5;129;01min\u001b[39;00m \u001b[38;5;28mrange\u001b[39m (\u001b[38;5;241m28\u001b[39m):\n\u001b[1;32m----> 7\u001b[0m     num \u001b[38;5;241m=\u001b[39m \u001b[38;5;28;43mint\u001b[39;49m\u001b[43m(\u001b[49m\u001b[38;5;28;43minput\u001b[39;49m\u001b[43m(\u001b[49m\u001b[43m)\u001b[49m\u001b[43m)\u001b[49m\n\u001b[0;32m      8\u001b[0m     student_array\u001b[38;5;241m.\u001b[39mremove(num)\n\u001b[0;32m     10\u001b[0m \u001b[38;5;28;01mfor\u001b[39;00m i \u001b[38;5;129;01min\u001b[39;00m student_array:\n",
      "\u001b[1;31mValueError\u001b[0m: invalid literal for int() with base 10: ''"
     ]
    }
   ],
   "source": [
    "# 문제 7\n",
    "student_array = []\n",
    "for i in range (1,31):\n",
    "    student_array.append(i)\n",
    "\n",
    "for i in range (28):\n",
    "    num = int(input())\n",
    "    student_array.remove(num)\n",
    "\n",
    "for i in student_array:\n",
    "    print(i)"
   ]
  },
  {
   "cell_type": "code",
   "execution_count": 45,
   "metadata": {},
   "outputs": [
    {
     "name": "stdout",
     "output_type": "stream",
     "text": [
      "10\n"
     ]
    }
   ],
   "source": [
    "# 문제 8\n",
    "num_array = []\n",
    "rest_array = []\n",
    "for i in range (10):\n",
    "    num = int(input())\n",
    "    num_array.append(num)\n",
    "\n",
    "for i in num_array:\n",
    "    rest = i % 42\n",
    "    rest_count = 0\n",
    "    if(len(rest_array) == 0):\n",
    "        rest_array.append(rest)\n",
    "    else:\n",
    "        for k in rest_array:\n",
    "            if(rest == k): \n",
    "                rest_count += 1\n",
    "        \n",
    "        if(rest_count == 0):\n",
    "            rest_array.append(rest)\n",
    "\n",
    "\n",
    "print(len(rest_array))"
   ]
  },
  {
   "cell_type": "code",
   "execution_count": 5,
   "metadata": {},
   "outputs": [
    {
     "name": "stdout",
     "output_type": "stream",
     "text": [
      "3 4 1 2 5\n"
     ]
    }
   ],
   "source": [
    "# 문제 9\n",
    "M, N = map(int, input().split())\n",
    "num_array = [0] * M\n",
    "\n",
    "for i in range (1, M + 1):\n",
    "    num_array[i - 1] += i\n",
    "\n",
    "for j in range(N):\n",
    "    a, b = map(int, input().split())\n",
    "    new_list = num_array[a - 1 : b]\n",
    "    new_list.reverse()\n",
    "\n",
    "    num_array[a - 1 : b] = new_list\n",
    "# => 인덱싱 슬라이싱 해서 사용하면 편함\n",
    "\n",
    "print(\" \".join(map(str, num_array)))\n",
    "# => 문자 리스트의 요소들은  문자열로 합쳐주는 문자열 메서드"
   ]
  },
  {
   "cell_type": "code",
   "execution_count": 10,
   "metadata": {},
   "outputs": [
    {
     "name": "stdout",
     "output_type": "stream",
     "text": [
      "75.0\n"
     ]
    }
   ],
   "source": [
    "N = int(input())\n",
    "num_array = [0] * N\n",
    "\n",
    "num_array = list(map(int, input().split()))\n",
    "\n",
    "num_sum = 0\n",
    "max = 0\n",
    "for i in num_array:\n",
    "    if(max <= i):\n",
    "        max = i\n",
    "\n",
    "for i in range(len(num_array)):\n",
    "    num_array[i] = num_array[i]/max *100\n",
    "    num_sum += num_array[i]\n",
    "\n",
    "\n",
    "\n",
    "print(num_sum/N)"
   ]
  }
 ],
 "metadata": {
  "kernelspec": {
   "display_name": "Python 3",
   "language": "python",
   "name": "python3"
  },
  "language_info": {
   "codemirror_mode": {
    "name": "ipython",
    "version": 3
   },
   "file_extension": ".py",
   "mimetype": "text/x-python",
   "name": "python",
   "nbconvert_exporter": "python",
   "pygments_lexer": "ipython3",
   "version": "3.11.9"
  }
 },
 "nbformat": 4,
 "nbformat_minor": 2
}
