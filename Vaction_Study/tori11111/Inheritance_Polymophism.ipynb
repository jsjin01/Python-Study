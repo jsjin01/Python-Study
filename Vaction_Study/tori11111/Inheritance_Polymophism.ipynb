{
 "cells": [
  {
   "cell_type": "markdown",
   "metadata": {},
   "source": [
    "클래스의 상속\n",
    "\n",
    "클래스를 만들 때 다른 클래스의 기능을 물려받을 수 있게 만드는 것\n",
    "부모 클래스(Super class) #모태가 되는 클래스\n",
    "자식 클래스(Sub class, Child class) #부모로부터 상속 받은 클래스\n",
    "생성자(constructor) #클래스 인스턴스 생성\n",
    "__init__()메서드 #클래스 생성자 메서드\n",
    "클래스 변수 #클래스에 공유 되는 변수\n",
    "메서드(Method)\n",
    "메서드 오버라이딩(Method Overriding) #상속받은 메서드를 재정의\n",
    "\n",
    "self, super(). self는 클래스의 인스턴스 자신을 가리키는 예약어\n",
    "super():는 부모 클래스의 메서드나 속성에 접근하기 위해 사용한다."
   ]
  },
  {
   "cell_type": "markdown",
   "metadata": {},
   "source": [
    "상속은 부모 클래스에 정의된 다양한 메서드, 클래스 변수를 그대로 활용 가능\n",
    "class Person: #super class\n",
    "    #클래스 변수\n",
    "    total_count=0\n",
    "\n",
    "    #생성자 메서드\n",
    "    def__init__(self, name='홍길동', age=20):\n",
    "        self.name = name\n",
    "        self.age = age\n",
    "        Person.total_count+=1\n",
    "\n",
    "    #class 내에 정의된 함수(method)\n",
    "        def introduce(self):\n",
    "            print(f'제 이름은 {self.name}이고, 나이는 {self.age}살 입니다.')\n",
    "\n",
    "class Student(Person) #sub class\n",
    "\n",
    "    def __init__(self):\n",
    "        super().__init__()\n",
    "    \n",
    "    def introduce(self):\n",
    "        #super().introduce()   - 부모 클래스에 있는 introduce를 출력하고 싶을 때는 #를 삭제하면 됨\n",
    "        print(f'제 이름은 {self.name}이고, 나이는 {self.age}살 입니다.')\n",
    "\n",
    "    def print_age(self):\n",
    "        print(f'내 나이는 {self.name}살')\n"
   ]
  },
  {
   "cell_type": "markdown",
   "metadata": {},
   "source": [
    "재정의 Overriding\n",
    "부모의 메서드를 자식이 제정의 하는 것\n",
    "다형성 표현 가능\n",
    "자식의 메서드와 부모의 메서드가 구분된다. 부모의 생성 여부와는 크게 관계 없다.\n",
    "부모의 메서드 중 __가 붙은 메서드는 재정의 불가\n",
    "__가 붙은 메서드는 자식 클래스에서 재정의가 아닌 추가된 메서드가 되기 때문에 재정의가 불가능하다.\n",
    "\n"
   ]
  },
  {
   "cell_type": "markdown",
   "metadata": {},
   "source": [
    "다형성\n",
    "하나의 이름으로 다양한 형태를 표현할 수 있는 특성\n",
    "상속을 통한 표현으로 일반화 함\n",
    "다형성- 공통적인 특성을 각 클래스들의 특성에 맞게 재정의\n",
    "일반화 이름을 사용하여 재정의된 함수들을 호출출"
   ]
  }
 ],
 "metadata": {
  "language_info": {
   "name": "python"
  }
 },
 "nbformat": 4,
 "nbformat_minor": 2
}
