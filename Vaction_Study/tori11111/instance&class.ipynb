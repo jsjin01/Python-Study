{
 "cells": [
  {
   "cell_type": "markdown",
   "metadata": {},
   "source": [
    "instance와 class\n",
    "class란 똑같은 무언가를 계속 만들어 낼 수 있는 설계 도면(과자 틀), 객체(object)란 클래스로 만들어낸 피조물(과자 틀로 찍어 낸 과자)를 뜻함\n",
    "\n",
    "클래스로 만든 객체에는 중요한 특징이 있다. 바로 객체마다 고유한 성격을 가진다는 것이다. \n",
    "과자 틀로 만든 과자에 구멍을 뚫거나 조금 베어 먹더라도 다른 과자에는 아무런 영향이 없는 것과 마찬가지로 동일한 클래스로 만든 객체들은 서로 전혀 영향을 주지 않는다.\n",
    "\n",
    "클래스의 장점\n",
    "추상화, 캡슐화, 다형성, 상속성, 코드의 간소화 등등\n",
    "\n",
    "class Cookie:\n",
    "    pass\n",
    "----------\n",
    "a = Cookie()\n",
    "b = Cookie()\n",
    "Cookie()의 결괏값을 리턴받은 a와 b가 바로 객체이다. 마치 함수를 사용해서 그 결괏값을 리턴받는 모습과 비슷하다.\n",
    "\n",
    "객체와 인스턴스의 차이\n",
    "클래스로 만든 객체를 ‘인스턴스’라고도 한다. a = Cookie()로 만든 a는 객체이다. 그리고 a 객체는 Cookie의 인스턴스이다. \n",
    "즉, 인스턴스라는 말은 특정 객체(a)가 어떤 클래스(Cookie)의 객체인지를 관계 위주로 설명할 때 사용한다. \n",
    "‘a는 인스턴스’보다 ‘a는 객체’라는 표현이 어울리며 ‘a는 Cookie의 객체’보다 ‘a는 Cookie의 인스턴스’라는 표현이 훨씬 잘 어울린다.\n",
    "\n",
    "pass는 아무것도 수행하지 않는 문법으로, 임시로 코드를 작성할 때 주로 사용한다.\n",
    "\n",
    "클래스 안에 구현된 함수는 다른 말로 메서드(method)라고 부른다.\n",
    "\n",
    "객체에 first, second와 같은 초깃값을 설정해야 할 필요가 있을 때는 setdata와 같은 메서드를 호출하여 초깃값을 설정하기보다 생성자를 구현하는 것이 안전한 방법이다.\n",
    "생성자(constructor)란 객체가 생성될 때 자동으로 호출되는 메서드를 의미한다. 파이썬 메서드명으로 __init__를 사용하면 이 메서드는 생성자가 된다.\n",
    "\n",
    "def __init__(self, first, second):\n",
    "    self.first = first\n",
    "    self.second = second\n",
    "객체가 생성되는 시점에서 자동으로 호출됨."
   ]
  },
  {
   "cell_type": "markdown",
   "metadata": {},
   "source": [
    "계산기\n",
    "\n",
    "class FourCal:\n",
    "     def setdata(self, first, second):\n",
    "        self.first = first\n",
    "         self.second = second\n",
    "     def add(self):\n",
    "         result = self.first + self.second\n",
    "         return result\n",
    "     def mul(self):\n",
    "         result = self.first * self.second\n",
    "         return result\n",
    "     def sub(self):\n",
    "         result = self.first - self.second\n",
    "         return result\n",
    "     def div(self):\n",
    "         result = self.first / self.second\n",
    "         return result\n"
   ]
  }
 ],
 "metadata": {
  "language_info": {
   "name": "python"
  }
 },
 "nbformat": 4,
 "nbformat_minor": 2
}
