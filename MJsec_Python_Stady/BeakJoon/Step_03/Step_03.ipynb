{
 "cells": [
  {
   "cell_type": "code",
   "execution_count": 1,
   "metadata": {},
   "outputs": [
    {
     "name": "stdout",
     "output_type": "stream",
     "text": [
      "2 * 1 = 2\n",
      "2 * 2 = 4\n",
      "2 * 3 = 6\n",
      "2 * 4 = 8\n",
      "2 * 5 = 10\n",
      "2 * 6 = 12\n",
      "2 * 7 = 14\n",
      "2 * 8 = 16\n",
      "2 * 9 = 18\n"
     ]
    }
   ],
   "source": [
    "##문제 1\n",
    "num : int = int(input())\n",
    "\n",
    "for i in range (1,10):\n",
    "    print(f\"{num} * {i} = {num * i}\")"
   ]
  },
  {
   "cell_type": "code",
   "execution_count": 2,
   "metadata": {},
   "outputs": [
    {
     "name": "stdout",
     "output_type": "stream",
     "text": [
      "2\n",
      "5\n",
      "5\n",
      "7\n",
      "17\n"
     ]
    }
   ],
   "source": [
    "##문제 2\n",
    "repeatNum : int = int(input())\n",
    "for i in range (repeatNum):\n",
    "    a, b = map(int, input().split())\n",
    "    print(f\"{a+b}\")\n"
   ]
  },
  {
   "cell_type": "code",
   "execution_count": 7,
   "metadata": {},
   "outputs": [
    {
     "name": "stdout",
     "output_type": "stream",
     "text": [
      "21\n"
     ]
    }
   ],
   "source": [
    "## 문제 3\n",
    "n = int(input())\n",
    "sum_num =0\n",
    "for i in range(n+1):\n",
    "    sum_num += i\n",
    "print(sum_num)"
   ]
  },
  {
   "cell_type": "code",
   "execution_count": 10,
   "metadata": {},
   "outputs": [
    {
     "name": "stdout",
     "output_type": "stream",
     "text": [
      "Yes\n"
     ]
    }
   ],
   "source": [
    "##문제 4\n",
    "X = int(input())\n",
    "things_N = int(input())\n",
    "sum_thing : int = 0\n",
    "\n",
    "for i in range (things_N):\n",
    "    a, b = map(int, input().split())\n",
    "    sum_thing += a*b\n",
    "\n",
    "if(X == sum_thing):\n",
    "    print(\"Yes\")\n",
    "else:\n",
    "    print(\"No\")"
   ]
  },
  {
   "cell_type": "code",
   "execution_count": 14,
   "metadata": {},
   "outputs": [
    {
     "name": "stdout",
     "output_type": "stream",
     "text": [
      "long int\n"
     ]
    }
   ],
   "source": [
    "##문제 5\n",
    "bit_n = int(input())\n",
    "\n",
    "num = bit_n // 4\n",
    "s = \"long \" * num + \"int\"\n",
    "print(s)"
   ]
  },
  {
   "cell_type": "code",
   "execution_count": null,
   "metadata": {},
   "outputs": [],
   "source": [
    "##문제 6\n",
    "import sys\n",
    "n = int(sys.stdin.readline().rstrip())\n",
    "\n",
    "for _ in range(n):\n",
    "    print(sum(map(int, sys.stdin.readline().split())))  # rstrip() 생략 가능"
   ]
  },
  {
   "cell_type": "code",
   "execution_count": 3,
   "metadata": {},
   "outputs": [
    {
     "name": "stdout",
     "output_type": "stream",
     "text": [
      "*\n",
      "**\n",
      "***\n",
      "****\n",
      "*****\n"
     ]
    }
   ],
   "source": [
    "##문제 7 \n",
    "N = int(input())\n",
    "\n",
    "for i in range (1,N+1):\n",
    "    print(\"*\"*i)"
   ]
  },
  {
   "cell_type": "code",
   "execution_count": 8,
   "metadata": {},
   "outputs": [
    {
     "name": "stdout",
     "output_type": "stream",
     "text": [
      "    *\n",
      "   **\n",
      "  ***\n",
      " ****\n",
      "*****\n"
     ]
    }
   ],
   "source": [
    "##문제 8\n",
    "N = int(input()) \n",
    "\n",
    "for i in range(1, N + 1): \n",
    "    print(\" \" * (N - i) + \"*\" * i)  \n"
   ]
  },
  {
   "cell_type": "code",
   "execution_count": 9,
   "metadata": {},
   "outputs": [],
   "source": [
    "##문제 9\n",
    "while True:\n",
    "    a,b = map(int, input().split())\n",
    "    if(a == 0 and b ==0):\n",
    "        break\n",
    "    print(f\"{a + b}\")\n",
    "\n"
   ]
  },
  {
   "cell_type": "code",
   "execution_count": null,
   "metadata": {},
   "outputs": [],
   "source": [
    "##try && except : 예외 처리 하는 법\n",
    "\n",
    "while True:\n",
    "    try:\n",
    "        a,b = map(int,input().split())\n",
    "    except:\n",
    "        break\n",
    "    print(a+b)"
   ]
  }
 ],
 "metadata": {
  "kernelspec": {
   "display_name": "Python 3",
   "language": "python",
   "name": "python3"
  },
  "language_info": {
   "codemirror_mode": {
    "name": "ipython",
    "version": 3
   },
   "file_extension": ".py",
   "mimetype": "text/x-python",
   "name": "python",
   "nbconvert_exporter": "python",
   "pygments_lexer": "ipython3",
   "version": "3.11.9"
  }
 },
 "nbformat": 4,
 "nbformat_minor": 2
}
