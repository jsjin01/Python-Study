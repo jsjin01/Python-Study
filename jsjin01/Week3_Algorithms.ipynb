{
 "cells": [
  {
   "cell_type": "markdown",
   "metadata": {},
   "source": [
    "## 알고리즘 평가법\n",
    "\n",
    "# 선형 탐색(Linear Search) : 리스트(배열)의 각 요소를 처음부터 끝까지 하나씩 순차적으로 비교하여 원하는 값을 찾는 탐색 알고리즘\n",
    "- 시간 복잡도 :\n",
    "최선 : O(1) => 가장 앞에 있는 경우 \n",
    "최악 : O(n) => 가장 뒤에 있는 경우\n",
    "\n",
    "# 이진 탐색 : 정렬된 리스트에서 반씩 범위를 줄여가며 원하는 값을 탐색하는 효율적인 알고리즘\n",
    "- 시간 복잡도 :  O(log n)\n",
    "\n",
    "# 정렬 알고리즘 \n",
    "=> 정렬 알고리즘 종류 : 선택 / 삽입 / 퀵 / 힙 / 병합 / 버블 등이 존재\n",
    "=> 알고리즘에서는 정렬이 중요\n",
    "\n",
    "# 선택 정렬 :리스트에서 가장 작은(또는 큰) 요소를 선택하여 앞쪽부터 순서대로 정렬하는 알고리즘\n",
    "\n",
    "# 삽입 정렬 : 배열의 각 요소를 순차적으로 탐색하면서, 해당 요소를 알맞은 위치에 삽입하여 정렬하는 알고리즘"
   ]
  },
  {
   "cell_type": "code",
   "execution_count": 6,
   "metadata": {},
   "outputs": [
    {
     "name": "stdout",
     "output_type": "stream",
     "text": [
      "0\n",
      "None\n",
      "2\n",
      "1\n",
      "4\n"
     ]
    }
   ],
   "source": [
    "# 선형 탐색 알고리즘\n",
    "def linear_search(target, data):\n",
    "    # 여기에 코드를 작성하세요.\n",
    "    count : int = 0\n",
    "    for i in data:\n",
    "        if(target == i) :\n",
    "            return count\n",
    "        count += 1\n",
    "    \n",
    "    return None\n",
    "\n",
    "\n",
    "# 테스트 코드\n",
    "print(linear_search(2, [2, 3, 5, 7, 11]))\n",
    "print(linear_search(0, [2, 3, 5, 7, 11]))\n",
    "print(linear_search(5, [2, 3, 5, 7, 11]))\n",
    "print(linear_search(3, [2, 3, 5, 7, 11]))\n",
    "print(linear_search(11, [2, 3, 5, 7, 11]))\n"
   ]
  },
  {
   "cell_type": "code",
   "execution_count": 5,
   "metadata": {},
   "outputs": [
    {
     "name": "stdout",
     "output_type": "stream",
     "text": [
      "0\n",
      "None\n",
      "2\n",
      "1\n",
      "4\n"
     ]
    }
   ],
   "source": [
    "# 이진 탐색 알고리즘\n",
    "def binary_search(target, data):\n",
    "    # 여기에 코드를 작성하세요.\n",
    "    left, right = 0, len(data) - 1\n",
    "    while left <= right:\n",
    "        mid = (left + right) // 2\n",
    "        if(target == data[mid]):\n",
    "            return mid\n",
    "        elif(target < data[mid]):\n",
    "            right = mid - 1\n",
    "        elif (target > data[mid]):\n",
    "            left = mid + 1\n",
    "\n",
    "    return None\n",
    "      \n",
    "        \n",
    "        \n",
    "\n",
    "\n",
    "# 테스트 코드\n",
    "print(binary_search(2, [2, 3, 5, 7, 11]))\n",
    "print(binary_search(0, [2, 3, 5, 7, 11]))\n",
    "print(binary_search(5, [2, 3, 5, 7, 11]))\n",
    "print(binary_search(3, [2, 3, 5, 7, 11]))\n",
    "print(binary_search(11, [2, 3, 5, 7, 11]))\n"
   ]
  },
  {
   "cell_type": "code",
   "execution_count": 31,
   "metadata": {},
   "outputs": [
    {
     "name": "stdout",
     "output_type": "stream",
     "text": [
      "[1, 1, 2, 3, 4, 8, 9]\n",
      "[1, 2, 2, 2, 5, 10, 16]\n",
      "[1, 2, 4, 6, 8, 10]\n"
     ]
    }
   ],
   "source": [
    "##선택 정렬\n",
    "import math\n",
    "def selection_sort(data):\n",
    "    # 여기에 코드를 작성하세요.\n",
    "    n = len(data)\n",
    "    for i in range(n - 1):\n",
    "        min_index = i\n",
    "        for j in range(i + 1, n):\n",
    "            if(data[j] < data[min_index]):\n",
    "                min_index = j\n",
    "        \n",
    "        data[i], data[min_index] = data[min_index], data[i]\n",
    "\n",
    "\n",
    "# 테스트 코드\n",
    "list_1 = [9, 4, 2, 3, 1, 8, 1]\n",
    "list_2 = [1, 2, 5, 2, 10, 16, 2]\n",
    "list_3 = [10, 8, 6, 4, 2, 1]\n",
    "\n",
    "selection_sort(list_1)\n",
    "selection_sort(list_2)\n",
    "selection_sort(list_3)\n",
    "\n",
    "print(list_1)\n",
    "print(list_2)\n",
    "print(list_3)"
   ]
  },
  {
   "cell_type": "code",
   "execution_count": 2,
   "metadata": {},
   "outputs": [
    {
     "name": "stdout",
     "output_type": "stream",
     "text": [
      "[1, 1, 2, 3, 4, 8, 9]\n",
      "[1, 2, 2, 2, 5, 10, 16]\n",
      "[1, 2, 4, 6, 8, 10]\n"
     ]
    }
   ],
   "source": [
    "#삽입정렬\n",
    "def insertion_sort(data):\n",
    "    # 여기에 코드를 작성하세요.\n",
    "    n = len(data)\n",
    "    for i in range(1, n):  # 두 번째 요소부터 시작 (index 1부터)\n",
    "        key = data[i]  # 현재 삽입할 값\n",
    "        j = i - 1\n",
    "        # 정렬된 부분 리스트에서 현재 값(key)이 들어갈 위치 찾기\n",
    "        \n",
    "        while j >= 0 and data[j] > key:\n",
    "            data[j + 1] = data[j]  # 한 칸씩 오른쪽으로 이동\n",
    "            j -= 1\n",
    "        data[j + 1] = key  # 적절한 위치에 key 삽입\n",
    "\n",
    "\n",
    "#list1 정렬 정도가 [2,4,9,3,1,8,1]하자\n",
    "#선택된 것은 3\n",
    "# 3이랑 9랑 비교 => 4랑 비교 => 2랑 비교 > 2랑 4 사이\n",
    "\n",
    "\n",
    "\n",
    "\n",
    "# 테스트 코드\n",
    "list_1 = [9, 4, 2, 3, 1, 8, 1]\n",
    "list_2 = [1, 2, 5, 2, 10, 16, 2]\n",
    "list_3 = [10, 8, 6, 4, 2, 1]\n",
    "\n",
    "insertion_sort(list_1)\n",
    "insertion_sort(list_2)\n",
    "insertion_sort(list_3)\n",
    "\n",
    "print(list_1)\n",
    "print(list_2)\n",
    "print(list_3)"
   ]
  },
  {
   "cell_type": "markdown",
   "metadata": {},
   "source": [
    "# 시간 복잡도 : 알고리즘의 입력 데이터 크기와 알고리즘이 실행되는 데 걸리는 시간 사이의 관계를 나타낸다\n",
    "=> 시간 복잡도가 낮다 == 더 빠른 알고리즘\n",
    "=> 시간 복잡도는 일차 그래프에 가까울수록 낮아진다. \n",
    "\n",
    "# 점근 표기법의 규칙\n",
    "=> 최고차항(입력데이터의 영향을 가장 많이 받는 부분)\n",
    "ex) 20n + 40(n이 입력데이터) => n으로 표시\n",
    "=> n이 무한이라고 가정해서 계산\n",
    "O(1) > O(n) > O(n^2) > O(n^3) 순으로 좋은 알고리즘\n",
    "\n",
    "코드별로 시간 복잡도를 구하고 몇 번 반복하는지 계산해서 구함  => 보통 최악의 경우를 생각함\n",
    "=> 내장 함수의 시간 복잡도도 생각해야됨\n",
    "- type() => O(1)\n",
    "- max(), min() => O(n)\n",
    "- str() => O(log n)\n",
    "- list method => O(n)\n",
    "- sort(), sorted() => O(n log n)\n",
    "- list 슬라이싱 => O(n)\n",
    "- len() => O(n)\n",
    "\n",
    "공간 복잡도 또한 점근 표기법 사용\n",
    "=> 메모리를 얼마나 소비하는지 생각"
   ]
  },
  {
   "cell_type": "markdown",
   "metadata": {},
   "source": [
    "Brute Force => 무차별 대입 공격 : 처음부터 끝까지 다 대입\n",
    "input이 늘어날수록 => 매우 비효율적"
   ]
  },
  {
   "cell_type": "code",
   "execution_count": 1,
   "metadata": {},
   "outputs": [
    {
     "name": "stdout",
     "output_type": "stream",
     "text": [
      "24\n",
      "32\n",
      "28\n"
     ]
    }
   ],
   "source": [
    "def max_product(left_cards, right_cards):\n",
    "    # 여기에 코드를 작성하세요\n",
    "    max_num = 0\n",
    "    for i in left_cards:\n",
    "        for j in right_cards:\n",
    "            if( i * j >= max_num):\n",
    "                max_num = i * j\n",
    "    return max_num\n",
    "    \n",
    "# 테스트 코드\n",
    "print(max_product([1, 6, 5], [4, 2, 3]))\n",
    "print(max_product([1, -9, 3, 4], [2, 8, 3, 1]))\n",
    "print(max_product([-1, -7, 3], [-4, 3, 6]))"
   ]
  },
  {
   "cell_type": "code",
   "execution_count": 25,
   "metadata": {},
   "outputs": [
    {
     "name": "stdout",
     "output_type": "stream",
     "text": [
      "[(2, 3), (3, 4)]\n"
     ]
    }
   ],
   "source": [
    "# 제곱근 사용을 위한 sqrt 함수\n",
    "from math import sqrt\n",
    "\n",
    "# 두 매장의 직선 거리를 계산해 주는 함수\n",
    "def distance(store1, store2):\n",
    "    return sqrt((store1[0] - store2[0]) ** 2 + (store1[1] - store2[1]) ** 2)\n",
    "\n",
    "# 가장 가까운 두 매장을 찾아주는 함수\n",
    "def closest_pair(coordinates):\n",
    "    # 여기에 코드를 작성하세요\n",
    "    d =1000000\n",
    "    for i in range (len(coordinates)):\n",
    "        store1 = coordinates[i]\n",
    "        for j in range (i + 1 ,len(coordinates)):\n",
    "            store2 = coordinates[j]\n",
    "            if(d > distance(store1, store2)):\n",
    "                d = distance(store1, store2)\n",
    "                min_list = []\n",
    "                min_list.append(store1)\n",
    "                min_list.append(store2)\n",
    "    \n",
    "    return min_list\n",
    "\n",
    "\n",
    "\n",
    "# 테스트 코드\n",
    "test_coordinates = [(2, 3), (12, 30), (40, 50), (5, 1), (12, 10), (3, 4)]\n",
    "print(closest_pair(test_coordinates))"
   ]
  },
  {
   "cell_type": "code",
   "execution_count": 11,
   "metadata": {},
   "outputs": [
    {
     "name": "stdout",
     "output_type": "stream",
     "text": [
      "10\n",
      "6\n"
     ]
    }
   ],
   "source": [
    "def trapping_rain(buildings):\n",
    "    # 여기에 코드를 작성하세요\n",
    "    n = len(buildings)\n",
    "\n",
    "    if(n == 0):\n",
    "        return 0\n",
    "    \n",
    "    left_max = [0] * n\n",
    "    right_max = [0] * n\n",
    "\n",
    "    left_max[0] = buildings[0]\n",
    "    for i in range (1, n):\n",
    "        left_max[i] = max(left_max[i-1], buildings[i])\n",
    "    \n",
    "    right_max[-1] = buildings[-1]\n",
    "    for i in range (n-2, -1, -1):\n",
    "        right_max[i] = max(right_max[i+1], buildings[i])\n",
    "\n",
    "    watar = 0\n",
    "    for i in range(n):\n",
    "        watar += max(0,min(left_max[i], right_max[i]) - buildings[i])\n",
    "    \n",
    "    return watar\n",
    "\n",
    "\n",
    "def list_sum(buildings):\n",
    "    sum = 0\n",
    "    for i in buildings:\n",
    "        sum += i\n",
    "    \n",
    "    return sum\n",
    "\n",
    "   \n",
    "            \n",
    "# 테스트\n",
    "print(trapping_rain([3, 0, 0, 2, 0, 4]))\n",
    "print(trapping_rain([0, 1, 0, 2, 1, 0, 1, 3, 2, 1, 2, 1]))\n"
   ]
  },
  {
   "cell_type": "markdown",
   "metadata": {},
   "source": [
    "## Divide and Conquer (분할 및 정복)\n",
    "1. divied => 분할\n",
    "2. conquer => 부분 문제 해결\n",
    "3. Combine => 합쳐서 풀기"
   ]
  },
  {
   "cell_type": "code",
   "execution_count": 16,
   "metadata": {},
   "outputs": [
    {
     "name": "stdout",
     "output_type": "stream",
     "text": [
      "55\n",
      "5050\n",
      "32131\n",
      "75466\n"
     ]
    }
   ],
   "source": [
    "def consecutive_sum(start, end):\n",
    "    # 여기에 코드를 작성하세요\n",
    "    if(start == end):\n",
    "        return start \n",
    "    else : \n",
    "        mid = (start + end) // 2\n",
    "        return consecutive_sum(start, mid) + consecutive_sum(mid + 1 , end)\n",
    "    \n",
    "# 테스트 코드\n",
    "print(consecutive_sum(1, 10))\n",
    "print(consecutive_sum(1, 100))\n",
    "print(consecutive_sum(1, 253))\n",
    "print(consecutive_sum(1, 388))"
   ]
  },
  {
   "cell_type": "code",
   "execution_count": 27,
   "metadata": {},
   "outputs": [
    {
     "name": "stdout",
     "output_type": "stream",
     "text": [
      "[1]\n",
      "[1]\n",
      "[1, 2]\n",
      "[1, 2, 3, 4, 5, 6, 7, 8]\n",
      "[1, 2, 3, 4, 5, 6, 7, 8]\n",
      "[1, 3, 4, 6, 7, 8, 9, 10]\n"
     ]
    }
   ],
   "source": [
    "def merge(list1, list2):\n",
    "    # 여기에 코드를 작성하세요\n",
    "    merge_list = []\n",
    "    i = 0\n",
    "    j = 0\n",
    "    i_max = len(list1)\n",
    "    j_max = len(list2)\n",
    "    while ((i != i_max) or (j != j_max)):\n",
    "        if(j == j_max):\n",
    "            merge_list.append(list1[i])\n",
    "            i+=1\n",
    "        elif(i == i_max):\n",
    "            merge_list.append(list2[j])\n",
    "            j+=1\n",
    "        elif (list1[i] < list2[j]):\n",
    "            merge_list.append(list1[i])\n",
    "            i+=1\n",
    "        elif (list1[i] > list2[j]):\n",
    "            merge_list.append(list2[j])\n",
    "            j+=1\n",
    "        elif(list1[i] == list2[j]):\n",
    "            merge_list.append(list1[i])\n",
    "            i+=1\n",
    "    return merge_list\n",
    "\n",
    "\n",
    "# 테스트 코드\n",
    "print(merge([1],[]))\n",
    "print(merge([],[1]))\n",
    "print(merge([2],[1]))\n",
    "print(merge([1, 2, 3, 4],[5, 6, 7, 8]))\n",
    "print(merge([5, 6, 7, 8],[1, 2, 3, 4]))\n",
    "print(merge([4, 7, 8, 9],[1, 3, 6, 10]))"
   ]
  },
  {
   "cell_type": "code",
   "execution_count": 37,
   "metadata": {},
   "outputs": [
    {
     "name": "stdout",
     "output_type": "stream",
     "text": [
      "[1, 3, 5, 7, 9, 11, 11, 13]\n",
      "[1, 5, 7, 9, 13, 15, 28, 30, 48]\n",
      "[1, 1, 2, 2, 4, 4, 4, 5, 6, 6, 7, 7, 10, 11, 13, 15]\n"
     ]
    }
   ],
   "source": [
    "# 합병 정렬\n",
    "def merge(list1, list2):\n",
    "    merge_list = []\n",
    "    i, j = 0, 0  # 두 리스트의 포인터 초기화\n",
    "\n",
    "    # 두 리스트를 병합\n",
    "    while i < len(list1) and j < len(list2):\n",
    "        if list1[i] < list2[j]:\n",
    "            merge_list.append(list1[i])\n",
    "            i += 1\n",
    "        else:\n",
    "            merge_list.append(list2[j])\n",
    "            j += 1\n",
    "\n",
    "    # 남은 요소들을 결과에 추가\n",
    "    merge_list.extend(list1[i:])  # list1의 남은 요소\n",
    "    merge_list.extend(list2[j:])  # list2의 남은 요소\n",
    "\n",
    "    return merge_list\n",
    "\n",
    "def merge_sort(my_list):\n",
    "    # 여기에 코드를 작성하세요\n",
    "    if(len(my_list) < 2):\n",
    "        return my_list\n",
    "    else:\n",
    "       left_half = my_list[: len(my_list)//2]\n",
    "       right_half = my_list[len(my_list)//2 :]\n",
    "       return merge(merge_sort(left_half), merge_sort(right_half))\n",
    "\n",
    "# 테스트 코드\n",
    "print(merge_sort([1, 3, 5, 7, 9, 11, 13, 11]))\n",
    "print(merge_sort([28, 13, 9, 30, 1, 48, 5, 7, 15]))\n",
    "print(merge_sort([2, 5, 6, 7, 1, 2, 4, 7, 10, 11, 4, 15, 13, 1, 6, 4]))"
   ]
  },
  {
   "cell_type": "code",
   "execution_count": 60,
   "metadata": {},
   "outputs": [
    {
     "name": "stdout",
     "output_type": "stream",
     "text": [
      "[4, 3, 2, 1, 5, 6, 7]\n",
      "4\n",
      "[1, 2, 3, 4, 6, 5, 6]\n",
      "3\n"
     ]
    }
   ],
   "source": [
    "# 두 요소의 위치를 바꿔주는 helper function\n",
    "def swap_elements(my_list, index1, index2):\n",
    "    # 여기에 코드를 작성하세요\n",
    "    my_list[index1], my_list[index2] = my_list[index2], my_list[index1]\n",
    "\n",
    "\n",
    "# 퀵 정렬에서 사용되는 partition 함수\n",
    "def partition(my_list, start, end):\n",
    "    # 여기에 코드를 작성하세요\n",
    "    big_index = start\n",
    "    pivot_index = end\n",
    "    pivot_number = my_list[pivot_index]\n",
    "    for check_index in range(len(my_list)):\n",
    "        if(my_list[check_index] < my_list[pivot_index]):\n",
    "            swap_elements(my_list,big_index,check_index)\n",
    "            big_index += 1\n",
    "    swap_elements(my_list,big_index,pivot_index)\n",
    "    return list(my_list).index(pivot_number)\n",
    "\n",
    "\n",
    "\n",
    "\n",
    "\n",
    "\n",
    "# 테스트 코드 1\n",
    "list1 = [4, 3, 6, 2, 7, 1, 5]\n",
    "pivot_index1 = partition(list1, 0, len(list1) - 1)\n",
    "print(list1)\n",
    "print(pivot_index1)\n",
    "\n",
    "# 테스트 코드 2\n",
    "list2 = [6, 1, 2, 6, 3, 5, 4]\n",
    "pivot_index2 = partition(list2, 0, len(list2) - 1)\n",
    "print(list2)\n",
    "print(pivot_index2)"
   ]
  },
  {
   "cell_type": "code",
   "execution_count": 1,
   "metadata": {},
   "outputs": [
    {
     "name": "stdout",
     "output_type": "stream",
     "text": [
      "[1, 3, 5, 7, 9, 11, 11, 13]\n",
      "[1, 5, 7, 9, 13, 15, 28, 30, 48]\n",
      "[1, 1, 2, 2, 4, 4, 4, 5, 6, 6, 7, 7, 10, 11, 13, 15]\n"
     ]
    }
   ],
   "source": [
    "# 두 요소의 위치를 바꿔주는 helper function\n",
    "def swap_elements(my_list, index1, index2):\n",
    "    temp = my_list[index1]\n",
    "    my_list[index1] = my_list[index2]\n",
    "    my_list[index2] = temp\n",
    "\n",
    "# 퀵 정렬에서 사용되는 partition 함수\n",
    "def partition(my_list, start, end):\n",
    "    # 리스트 값 확인과 기준점 이하 값들의 위치 확인을 위한 변수 정의\n",
    "    i = start\n",
    "    b = start\n",
    "    p = end\n",
    "\n",
    "    # 범위안의 모든 값들을 볼 때까지 반복문을 돌린다\n",
    "    while i < p:\n",
    "        # i 인덱스의 값이 기준점보다 작으면 i와 b 인덱스에 있는 값들을 교환하고 b를 1 증가 시킨다\n",
    "        if my_list[i] <= my_list[p]:\n",
    "            swap_elements(my_list, i, b)\n",
    "            b += 1\n",
    "        i += 1\n",
    "\n",
    "    # b와 기준점인 p 인덱스에 있는 값들을 바꿔준다\n",
    "    swap_elements(my_list, b, p)\n",
    "    p = b\n",
    "\n",
    "    # pivot의 최종 인덱스를 리턴해 준다\n",
    "    return p\n",
    "\n",
    "# 퀵 정렬\n",
    "def quicksort(my_list, start, end):\n",
    "    # base case\n",
    "    if end - start < 1:\n",
    "        return\n",
    "\n",
    "    # my_list를 두 부분으로 나누어주고,\n",
    "    # partition 이후 pivot의 인덱스를 리턴받는다\n",
    "    pivot = partition(my_list, start, end)\n",
    "\n",
    "    # pivot의 왼쪽 부분 정렬\n",
    "    quicksort(my_list, start, pivot - 1)\n",
    "\n",
    "    # pivot의 오른쪽 부분 정렬\n",
    "    quicksort(my_list, pivot + 1, end)\n",
    "\n",
    "\n",
    "# 테스트 코드 1\n",
    "list1 = [1, 3, 5, 7, 9, 11, 13, 11]\n",
    "quicksort(list1, 0, len(list1) - 1)\n",
    "print(list1)\n",
    "\n",
    "# 테스트 코드 2\n",
    "list2 = [28, 13, 9, 30, 1, 48, 5, 7, 15]\n",
    "quicksort(list2, 0, len(list2) - 1)\n",
    "print(list2)\n",
    "\n",
    "# 테스트 코드 3\n",
    "list3 = [2, 5, 6, 7, 1, 2, 4, 7, 10, 11, 4, 15, 13, 1, 6, 4]\n",
    "quicksort(list3, 0, len(list3) - 1)\n",
    "print(list3)\n"
   ]
  }
 ],
 "metadata": {
  "kernelspec": {
   "display_name": "Python 3",
   "language": "python",
   "name": "python3"
  },
  "language_info": {
   "codemirror_mode": {
    "name": "ipython",
    "version": 3
   },
   "file_extension": ".py",
   "mimetype": "text/x-python",
   "name": "python",
   "nbconvert_exporter": "python",
   "pygments_lexer": "ipython3",
   "version": "3.11.9"
  }
 },
 "nbformat": 4,
 "nbformat_minor": 2
}
