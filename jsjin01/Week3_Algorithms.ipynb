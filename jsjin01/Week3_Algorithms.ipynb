{
 "cells": [
  {
   "cell_type": "markdown",
   "metadata": {},
   "source": [
    "## 알고리즘 평가법\n",
    "\n",
    "# 선형 탐색(Linear Search) : 리스트(배열)의 각 요소를 처음부터 끝까지 하나씩 순차적으로 비교하여 원하는 값을 찾는 탐색 알고리즘\n",
    "- 시간 복잡도 :\n",
    "최선 : O(1) => 가장 앞에 있는 경우 \n",
    "최악 : O(n) => 가장 뒤에 있는 경우\n",
    "\n",
    "# 이진 탐색 : 정렬된 리스트에서 반씩 범위를 줄여가며 원하는 값을 탐색하는 효율적인 알고리즘\n",
    "- 시간 복잡도 :  O(log n)\n",
    "\n",
    "# 정렬 알고리즘 \n",
    "=> 정렬 알고리즘 종류 : 선택 / 삽입 / 퀵 / 힙 / 병합 / 버블 등이 존재\n",
    "=> 알고리즘에서는 정렬이 중요\n",
    "\n",
    "# 선택 정렬 :리스트에서 가장 작은(또는 큰) 요소를 선택하여 앞쪽부터 순서대로 정렬하는 알고리즘\n",
    "\n",
    "# 삽입 정렬 : 배열의 각 요소를 순차적으로 탐색하면서, 해당 요소를 알맞은 위치에 삽입하여 정렬하는 알고리즘"
   ]
  },
  {
   "cell_type": "code",
   "execution_count": 6,
   "metadata": {},
   "outputs": [
    {
     "name": "stdout",
     "output_type": "stream",
     "text": [
      "0\n",
      "None\n",
      "2\n",
      "1\n",
      "4\n"
     ]
    }
   ],
   "source": [
    "# 선형 탐색 알고리즘\n",
    "def linear_search(target, data):\n",
    "    # 여기에 코드를 작성하세요.\n",
    "    count : int = 0\n",
    "    for i in data:\n",
    "        if(target == i) :\n",
    "            return count\n",
    "        count += 1\n",
    "    \n",
    "    return None\n",
    "\n",
    "\n",
    "# 테스트 코드\n",
    "print(linear_search(2, [2, 3, 5, 7, 11]))\n",
    "print(linear_search(0, [2, 3, 5, 7, 11]))\n",
    "print(linear_search(5, [2, 3, 5, 7, 11]))\n",
    "print(linear_search(3, [2, 3, 5, 7, 11]))\n",
    "print(linear_search(11, [2, 3, 5, 7, 11]))\n"
   ]
  },
  {
   "cell_type": "code",
   "execution_count": 5,
   "metadata": {},
   "outputs": [
    {
     "name": "stdout",
     "output_type": "stream",
     "text": [
      "0\n",
      "None\n",
      "2\n",
      "1\n",
      "4\n"
     ]
    }
   ],
   "source": [
    "# 이진 탐색 알고리즘\n",
    "def binary_search(target, data):\n",
    "    # 여기에 코드를 작성하세요.\n",
    "    left, right = 0, len(data) - 1\n",
    "    while left <= right:\n",
    "        mid = (left + right) // 2\n",
    "        if(target == data[mid]):\n",
    "            return mid\n",
    "        elif(target < data[mid]):\n",
    "            right = mid - 1\n",
    "        elif (target > data[mid]):\n",
    "            left = mid + 1\n",
    "\n",
    "    return None\n",
    "      \n",
    "        \n",
    "        \n",
    "\n",
    "\n",
    "# 테스트 코드\n",
    "print(binary_search(2, [2, 3, 5, 7, 11]))\n",
    "print(binary_search(0, [2, 3, 5, 7, 11]))\n",
    "print(binary_search(5, [2, 3, 5, 7, 11]))\n",
    "print(binary_search(3, [2, 3, 5, 7, 11]))\n",
    "print(binary_search(11, [2, 3, 5, 7, 11]))\n"
   ]
  },
  {
   "cell_type": "code",
   "execution_count": 31,
   "metadata": {},
   "outputs": [
    {
     "name": "stdout",
     "output_type": "stream",
     "text": [
      "[1, 1, 2, 3, 4, 8, 9]\n",
      "[1, 2, 2, 2, 5, 10, 16]\n",
      "[1, 2, 4, 6, 8, 10]\n"
     ]
    }
   ],
   "source": [
    "##선택 정렬\n",
    "import math\n",
    "def selection_sort(data):\n",
    "    # 여기에 코드를 작성하세요.\n",
    "    n = len(data)\n",
    "    for i in range(n - 1):\n",
    "        min_index = i\n",
    "        for j in range(i + 1, n):\n",
    "            if(data[j] < data[min_index]):\n",
    "                min_index = j\n",
    "        \n",
    "        data[i], data[min_index] = data[min_index], data[i]\n",
    "\n",
    "\n",
    "# 테스트 코드\n",
    "list_1 = [9, 4, 2, 3, 1, 8, 1]\n",
    "list_2 = [1, 2, 5, 2, 10, 16, 2]\n",
    "list_3 = [10, 8, 6, 4, 2, 1]\n",
    "\n",
    "selection_sort(list_1)\n",
    "selection_sort(list_2)\n",
    "selection_sort(list_3)\n",
    "\n",
    "print(list_1)\n",
    "print(list_2)\n",
    "print(list_3)"
   ]
  },
  {
   "cell_type": "code",
   "execution_count": 2,
   "metadata": {},
   "outputs": [
    {
     "name": "stdout",
     "output_type": "stream",
     "text": [
      "[1, 1, 2, 3, 4, 8, 9]\n",
      "[1, 2, 2, 2, 5, 10, 16]\n",
      "[1, 2, 4, 6, 8, 10]\n"
     ]
    }
   ],
   "source": [
    "#삽입정렬\n",
    "def insertion_sort(data):\n",
    "    # 여기에 코드를 작성하세요.\n",
    "    n = len(data)\n",
    "    for i in range(1, n):  # 두 번째 요소부터 시작 (index 1부터)\n",
    "        key = data[i]  # 현재 삽입할 값\n",
    "        j = i - 1\n",
    "        # 정렬된 부분 리스트에서 현재 값(key)이 들어갈 위치 찾기\n",
    "        \n",
    "        while j >= 0 and data[j] > key:\n",
    "            data[j + 1] = data[j]  # 한 칸씩 오른쪽으로 이동\n",
    "            j -= 1\n",
    "        data[j + 1] = key  # 적절한 위치에 key 삽입\n",
    "\n",
    "\n",
    "#list1 정렬 정도가 [2,4,9,3,1,8,1]하자\n",
    "#선택된 것은 3\n",
    "# 3이랑 9랑 비교 => 4랑 비교 => 2랑 비교 > 2랑 4 사이\n",
    "\n",
    "\n",
    "\n",
    "\n",
    "# 테스트 코드\n",
    "list_1 = [9, 4, 2, 3, 1, 8, 1]\n",
    "list_2 = [1, 2, 5, 2, 10, 16, 2]\n",
    "list_3 = [10, 8, 6, 4, 2, 1]\n",
    "\n",
    "insertion_sort(list_1)\n",
    "insertion_sort(list_2)\n",
    "insertion_sort(list_3)\n",
    "\n",
    "print(list_1)\n",
    "print(list_2)\n",
    "print(list_3)"
   ]
  },
  {
   "cell_type": "markdown",
   "metadata": {},
   "source": [
    "# 시간 복잡도 : 알고리즘의 입력 데이터 크기와 알고리즘이 실행되는 데 걸리는 시간 사이의 관계를 나타낸다\n",
    "=> 시간 복잡도가 낮다 == 더 빠른 알고리즘\n",
    "=> 시간 복잡도는 일차 그래프에 가까울수록 낮아진다. \n",
    "\n",
    "# 점근 표기법의 규칙\n",
    "=> 최고차항(입력데이터의 영향을 가장 많이 받는 부분)\n",
    "ex) 20n + 40(n이 입력데이터) => n으로 표시\n",
    "=> n이 무한이라고 가정해서 계산\n",
    "O(1) > O(n) > O(n^2) > O(n^3) 순으로 좋은 알고리즘\n",
    "\n",
    "코드별로 시간 복잡도를 구하고 몇 번 반복하는지 계산해서 구함  => 보통 최악의 경우를 생각함\n",
    "=> 내장 함수의 시간 복잡도도 생각해야됨\n",
    "- type() => O(1)\n",
    "- max(), min() => O(n)\n",
    "- str() => O(log n)\n",
    "- list method => O(n)\n",
    "- sort(), sorted() => O(n log n)\n",
    "- list 슬라이싱 => O(n)\n",
    "- len() => O(n)\n",
    "\n",
    "공간 복잡도 또한 점근 표기법 사용\n",
    "=> 메모리를 얼마나 소비하는지 생각"
   ]
  },
  {
   "cell_type": "markdown",
   "metadata": {},
   "source": [
    "Brute Force => 무차별 대입 공격 : 처음부터 끝까지 다 대입\n",
    "input이 늘어날수록 => 매우 비효율적"
   ]
  },
  {
   "cell_type": "code",
   "execution_count": 1,
   "metadata": {},
   "outputs": [
    {
     "name": "stdout",
     "output_type": "stream",
     "text": [
      "24\n",
      "32\n",
      "28\n"
     ]
    }
   ],
   "source": [
    "def max_product(left_cards, right_cards):\n",
    "    # 여기에 코드를 작성하세요\n",
    "    max_num = 0\n",
    "    for i in left_cards:\n",
    "        for j in right_cards:\n",
    "            if( i * j >= max_num):\n",
    "                max_num = i * j\n",
    "    return max_num\n",
    "    \n",
    "# 테스트 코드\n",
    "print(max_product([1, 6, 5], [4, 2, 3]))\n",
    "print(max_product([1, -9, 3, 4], [2, 8, 3, 1]))\n",
    "print(max_product([-1, -7, 3], [-4, 3, 6]))"
   ]
  },
  {
   "cell_type": "code",
   "execution_count": 25,
   "metadata": {},
   "outputs": [
    {
     "name": "stdout",
     "output_type": "stream",
     "text": [
      "[(2, 3), (3, 4)]\n"
     ]
    }
   ],
   "source": [
    "# 제곱근 사용을 위한 sqrt 함수\n",
    "from math import sqrt\n",
    "\n",
    "# 두 매장의 직선 거리를 계산해 주는 함수\n",
    "def distance(store1, store2):\n",
    "    return sqrt((store1[0] - store2[0]) ** 2 + (store1[1] - store2[1]) ** 2)\n",
    "\n",
    "# 가장 가까운 두 매장을 찾아주는 함수\n",
    "def closest_pair(coordinates):\n",
    "    # 여기에 코드를 작성하세요\n",
    "    d =1000000\n",
    "    for i in range (len(coordinates)):\n",
    "        store1 = coordinates[i]\n",
    "        for j in range (i + 1 ,len(coordinates)):\n",
    "            store2 = coordinates[j]\n",
    "            if(d > distance(store1, store2)):\n",
    "                d = distance(store1, store2)\n",
    "                min_list = []\n",
    "                min_list.append(store1)\n",
    "                min_list.append(store2)\n",
    "    \n",
    "    return min_list\n",
    "\n",
    "\n",
    "\n",
    "# 테스트 코드\n",
    "test_coordinates = [(2, 3), (12, 30), (40, 50), (5, 1), (12, 10), (3, 4)]\n",
    "print(closest_pair(test_coordinates))"
   ]
  },
  {
   "cell_type": "code",
   "execution_count": 43,
   "metadata": {},
   "outputs": [
    {
     "name": "stdout",
     "output_type": "stream",
     "text": [
      "[2, 0, 0, 1, 0, 3]\n",
      "2\n",
      "[1, 0, 0, 0, 0, 2]\n",
      "3\n",
      "[0, 0, 0, 0, 0, 1]\n",
      "7\n",
      "[0, 0, 0, 0, 0, 0]\n",
      "7\n",
      "7\n",
      "[0, 0, 0, 1, 0, 0, 0, 2, 1, 0, 1, 0]\n",
      "2\n",
      "[0, 0, 0, 0, 0, 0, 0, 1, 0, 0, 0, 0]\n",
      "6\n",
      "[0, 0, 0, 0, 0, 0, 0, 0, 0, 0, 0, 0]\n",
      "13\n",
      "13\n"
     ]
    }
   ],
   "source": [
    "def trapping_rain(buildings):\n",
    "    # 여기에 코드를 작성하세요\n",
    "    water : int = 0\n",
    "    water_on : bool  = False\n",
    "    building_sum = list_sum(buildings)\n",
    "    while building_sum != 0:\n",
    "        for i in range (len(buildings)):\n",
    "            if(not water_on and buildings[i] >= 1 ):\n",
    "                water_on =True\n",
    "            elif(water_on and buildings[i] == 0):\n",
    "                water += 1\n",
    "            elif(water_on and buildings[i] >= 1 ):\n",
    "                water_on = False\n",
    "            \n",
    "            if(buildings[i] >= 1):\n",
    "                buildings[i] -= 1\n",
    "        building_sum = list_sum(buildings)\n",
    "    \n",
    "    return water\n",
    "\n",
    "\n",
    "\n",
    "def list_sum(buildings):\n",
    "    sum = 0\n",
    "    for i in buildings:\n",
    "        sum += i\n",
    "    \n",
    "    return sum\n",
    "\n",
    "   \n",
    "            \n",
    "# 테스트\n",
    "print(trapping_rain([3, 0, 0, 2, 0, 4]))\n",
    "print(trapping_rain([0, 1, 0, 2, 1, 0, 1, 3, 2, 1, 2, 1]))\n"
   ]
  }
 ],
 "metadata": {
  "kernelspec": {
   "display_name": "Python 3",
   "language": "python",
   "name": "python3"
  },
  "language_info": {
   "codemirror_mode": {
    "name": "ipython",
    "version": 3
   },
   "file_extension": ".py",
   "mimetype": "text/x-python",
   "name": "python",
   "nbconvert_exporter": "python",
   "pygments_lexer": "ipython3",
   "version": "3.11.9"
  }
 },
 "nbformat": 4,
 "nbformat_minor": 2
}
