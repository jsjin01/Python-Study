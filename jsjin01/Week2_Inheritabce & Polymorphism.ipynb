{
 "cells": [
  {
   "cell_type": "markdown",
   "metadata": {},
   "source": [
    "## 상속 && 다형성 \n",
    "\n",
    "# 상속\n",
    "- 부모의 클래스의 속성과 메서드를 자식 클래스가 물려받는 개념\n",
    "- 코드 재사용성을 높이고, 기존 클래스를 확장하여 새로운 기능을 추가할 수 있음\n",
    "- 자식 클래스에서 메서드 오버라이딩을 통해 부모 클래스의 메서드를 재정의 할 수 있음\n",
    "- super() 를 사용하여 부모 클래스의 메서드를 실행할 수 있음\n",
    "- from abc import ABC, abstractmethod / @abstractmethod 선언으로 추상 클래스 생성 가능 \n",
    "- ABC는 추상 클래스를 정의하는 모듈\n",
    "- Python에서는 다중 상속 가능 \n",
    "- 추상 클래스는 인스턴스 생성 불가\n",
    "- pass 는 아무것도 하지 않는 것을 의미 => 문법적 오류를 해결하기 위함\n",
    "\n",
    "# 다형성\n",
    "- 같은 이름의 메서드가 서로 다른 클래스에서 다르게 동작하는 것.\n",
    "- 부모 클래스로부터 파생된 여러 자식 클래스가 공통된 인터페이스를 공유하면서 서로 다른 동작을 수행할 수 있음.\n",
    "- 다형성을 통해 유연하고 확장 가능한 코드를 작성할 수 있음\n",
    "\n",
    "# python에서의 오버라이딩(Overriding) VS 오버로딩(Overloading)\n",
    "* 오버라이딩\n",
    "- 부모의 메서드의 이름, 매개 변수, 반환 타입 등 동일해야됨\n",
    "- 상속관계에서만 일어남\n",
    "\n",
    "* 오버로딩\n",
    "- 부모의 메서드의 이름만 같고 매개 변수나 리턴 값은 다르게 할 수 있음\n",
    "- 파이썬에서는 지원을 안함으로 *args, *kwargs 등의 가변인자를 사용하거나 디폴트 매게 변수를 사용하여 유사 동작 구현 가능\n",
    "\n"
   ]
  },
  {
   "cell_type": "code",
   "execution_count": 4,
   "metadata": {},
   "outputs": [
    {
     "name": "stdout",
     "output_type": "stream",
     "text": [
      "Bark!\n",
      "sleeping....\n",
      "물건 : None\n"
     ]
    }
   ],
   "source": [
    "from abc import ABC, abstractmethod\n",
    "\n",
    "class Animal(ABC):\n",
    "    @abstractmethod\n",
    "    def speak(self):\n",
    "        pass\n",
    "\n",
    "    def sleep(self):\n",
    "        print(\"sleeping....\")\n",
    "\n",
    "class Dog(Animal):\n",
    "    def speak(self):\n",
    "        print(\"Bark!\")\n",
    "    \n",
    "    def dogTool(self, tool = None):\n",
    "        print(f\"물건 : {tool}\")\n",
    "\n",
    "# animal = Animal()  =>  추상 클래스는 인스턴스로 못 만드므로 에러 발생 \n",
    "dog = Dog()\n",
    "dog.speak()\n",
    "dog.sleep()\n",
    "dog.dogTool()"
   ]
  }
 ],
 "metadata": {
  "kernelspec": {
   "display_name": "Python 3",
   "language": "python",
   "name": "python3"
  },
  "language_info": {
   "codemirror_mode": {
    "name": "ipython",
    "version": 3
   },
   "file_extension": ".py",
   "mimetype": "text/x-python",
   "name": "python",
   "nbconvert_exporter": "python",
   "pygments_lexer": "ipython3",
   "version": "3.11.9"
  }
 },
 "nbformat": 4,
 "nbformat_minor": 2
}
