{
 "cells": [
  {
   "cell_type": "markdown",
   "metadata": {},
   "source": [
    "Python은 동적 타이핑(dynamic typing)을 지원한다.\n",
    " => 변수의 자료형을 명시적으로 선언하지 않아도 된다.\n",
    "\n",
    " But,자료형을 강제 할당 가능 \n",
    " => 타입 힌팅(Type Hinting)을 사용하여 정적으로 사용할 수 있다.(Ex. name : str)\n",
    " => pydantic 라이브러리 활용\n",
    " \n",
    " 변수의 타입 확인하기\n",
    "  => type() 메서드 사용하여 확인할 수 있다."
   ]
  },
  {
   "cell_type": "markdown",
   "metadata": {},
   "source": [
    "## 기본 자료형\n",
    "\n",
    "# 1. 숫자형\n",
    " - int(정수형) : 정수를 표현하는 자료형\n",
    " - float(실수형): 부동소수점 숫자를 표현\n",
    " - complex(복소수형) : 실수부와 허수부로 구성된 복소수를 표현\n",
    "\n",
    " * 숫자형 연산 \n",
    " - 덧셈: +\n",
    " - 뺄셈: -\n",
    " - 곱셈: *\n",
    " - 나눗셈: / (항상 float 결과 반환)\n",
    " - 몫: // (정수 나눗셈)\n",
    " - 나머지: %\n",
    " - 거듭제곱: **\n",
    "\n",
    " * 관련 내장 함수\n",
    " - abs(x): 절댓값 반환\n",
    " - round(x, n): 반올림 (n은 소수점 자리수)\n",
    " - pow(x, y): 거듭제곱 (x**y와 동일)\n",
    " - divmod(x, y): 몫과 나머지 반환 ((x // y, x % y)와 동일)\n",
    " - min()/max(): 최소값/최대값 반환\n",
    " - sum(iterable): 합계 계산\n",
    "\n",
    "\n",
    "# 2. 문자열형\n",
    "- string: 문자들의 집합이며, 작은따옴표(') 또는 큰따옴표(\")로 묶어 표현. const로 사용 불가능 \n",
    "\n",
    "# 3. 불리언형\n",
    "- bool : 참(True)과 거짓(False)을 나타냄.\n",
    "\n",
    "# 4. NoneType\n",
    "- 값이 없음을 나타내는 자료형, 단일 값 None만 가짐.\n",
    "\n",
    "# 자료형 변환\n",
    "- int() - 정수로 변환\n",
    "- float() - 실수로 변환\n",
    "- str() - 문자열로 변환\n",
    "- list() - 리스트로 변환\n",
    "- tuple() - 튜플로 변환\n",
    "- set() - 집합으로 변환\n",
    "\n",
    "# f-string 포매팅\n",
    "- 중괄호 {} 안에 간단한 표현식을 넣을 수 있음\n",
    "- : 뒤에 형식을 지정할 수 있음"
   ]
  },
  {
   "cell_type": "code",
   "execution_count": 2,
   "metadata": {},
   "outputs": [
    {
     "name": "stdout",
     "output_type": "stream",
     "text": [
      "변수 : num, 값 : 안녕하세요, 타입 : <class 'str'>\n",
      "변수 : i, 값 : 1, 타입 : <class 'int'>\n",
      "변수 : f, 값 : 2.6, 타입 : <class 'float'>\n",
      "변수 : c, 값 : (1+1j), 타입 : <class 'complex'>\n",
      "변수 : s, 값 : hi, 타입 : <class 'str'>\n",
      "변수 : b, 값 : True, 타입 : <class 'bool'>\n",
      "\n",
      "자료형 변환(float -> int) : 2.6 -> 2\n"
     ]
    }
   ],
   "source": [
    "num = \"안녕하세요\"\n",
    "i : int = 1\n",
    "f : float = 2.6\n",
    "c :complex = 1 + 1j\n",
    "s : str = 'hi'\n",
    "b : bool = True\n",
    "\n",
    "print(f\"변수 : num, 값 : {num}, 타입 : {type(num)}\")\n",
    "print(f\"변수 : i, 값 : {i}, 타입 : {type(i)}\")\n",
    "print(f\"변수 : f, 값 : {f}, 타입 : {type(f)}\")\n",
    "print(f\"변수 : c, 값 : {c}, 타입 : {type(c)}\")\n",
    "print(f\"변수 : s, 값 : {s}, 타입 : {type(s)}\")\n",
    "print(f\"변수 : b, 값 : {b}, 타입 : {type(b)}\")\n",
    "\n",
    "print(f\"\\n자료형 변환(float -> int) : {f} -> {int((f))}\")"
   ]
  },
  {
   "cell_type": "markdown",
   "metadata": {},
   "source": [
    "## 컬렉션 자료형\n",
    "\n",
    "# 1.List\n",
    "- 순서가 있는 값들의 집합으로, 값은 변경 가능(mutable).\n",
    "- 다양한 자료형 혼합 가능.\n",
    "- 대괄호([])로 선언하며, 인덱싱과 슬라이싱 지원.\n",
    "\n",
    "* 주요 메서드\n",
    "- append(item): 리스트의 끝에 요소 추가\n",
    "- extend(iterable): 다른 컬렉션(list)의 모든 요소를 리스트 끝에 추가\n",
    "- insert(index, item): 특정 위치에 요소 삽입\n",
    "- remove(item): 첫 번째로 발견된 해당 요소 제거\n",
    "- pop(index): 특정 인덱스의 요소 제거 및 반환\n",
    "- index(item): 특정 요소의 첫 번째 인덱스 반환\n",
    "- count(item): 특정 요소의 개수 반환\n",
    "- reverse(): 리스트 순서 뒤집기\n",
    "- sort(): 리스트 정렬\n",
    "- clear(): 모든 요소 제거\n",
    "\n",
    "\n",
    "# 2. Tuple\n",
    "- 순서가 있는 값들의 집합으로, 값은 변경 불가능(immutable).\n",
    "- 소괄호(())로 선언하며, 인덱싱과 슬라이싱 지원.\n",
    "\n",
    "* 주요 메서드\n",
    "- count(item): 특정 요소의 개수 반환\n",
    "- index(item): 특정 요소의 첫 번째 인덱스 반환\n",
    "\n",
    "\n",
    "# Set\n",
    "- 순서가 없고 중복을 허용하지 않는 값들의 집합.\n",
    "- 중괄호({})로 선언하며, 집합 연산(union, intersection 등)을 지원.\n",
    "\n",
    "* 주요 메서드\n",
    "- add(item): 집합에 요소 추가\n",
    "- remove(item): 특정 요소 제거 (존재하지 않으면 오류 발생)\n",
    "- discard(item): 특정 요소 제거\n",
    "- pop(): 임의의 요소 제거 및 반환\n",
    "- union(other_set): 합집합 반환\n",
    "- intersection(other_set): 교집합 반환\n",
    "- difference(other_set): 차집합 반환\n",
    "- clear(): 모든 요소 제거\n",
    "\n",
    "\n",
    "# Dictionary\n",
    "- 키-값 쌍으로 이루어진 집합으로, 순서 보장\n",
    "- 중괄호({})로 선언하며, 키는 불변(immutable)이어야 함.\n",
    "\n",
    "* 주요 메서드\n",
    "- get(key): 키에 해당하는 값 반환\n",
    "- keys(): 모든 키 반환\n",
    "- values(): 모든 값 반환\n",
    "- items(): 모든 키-값 쌍 반환\n",
    "- update(other_dict): 다른 딕셔너리로 병합\n",
    "- pop(key): 특정 키-값 쌍 제거 및 값 반환\n",
    "- clear(): 모든 요소 제거\n"
   ]
  },
  {
   "cell_type": "code",
   "execution_count": 1,
   "metadata": {},
   "outputs": [
    {
     "name": "stdout",
     "output_type": "stream",
     "text": [
      "list, 값 : [1, 2, 3, 4, 5, 6] , 타입: <class 'list'>\n",
      "tuple, 값 : ('a', 'b', 'c'), 타입 : <class 'tuple'>\n",
      "set, 값 : {'ㄴ', 'ㄷ', 'ㄱ'}, 타입 : <class 'set'>\n",
      "dictionary, 값 : {1: 'value1', 2: 'value2', 3: 'value3'}, 타입 : <class 'dict'>\n",
      "\n",
      "변경 후\n",
      "\n",
      "list, 값 : [1, 2, 3, 4, 5, 6, 7] , 타입: <class 'list'>\n",
      "tuple, 값 : ('a', 'b', 'c'), 타입 : <class 'tuple'>\n",
      "set, 값 : {'ㄴ', 'ㄹ', 'ㄷ', 'ㄱ'}, 타입 : <class 'set'>\n",
      "dictionary, 값 : {1: 'value1', 2: 'value2', 3: 'value3', 4: 'value4'}, 타입 : <class 'dict'>\n"
     ]
    }
   ],
   "source": [
    "l = [1, 2, 3, 4, 5, 6]\n",
    "t = (\"a\", \"b\", \"c\")\n",
    "s = {\"ㄱ\", \"ㄴ\", \"ㄷ\"}\n",
    "d = { 1 : \"value1\", 2 : \"value2\", 3 : \"value3\"}\n",
    "\n",
    "print(f\"list, 값 : {l} , 타입: {type(l)}\")\n",
    "print(f\"tuple, 값 : {t}, 타입 : {type(t)}\")\n",
    "print(f\"set, 값 : {s}, 타입 : {type(s)}\")\n",
    "print(f\"dictionary, 값 : {d}, 타입 : {type(d)}\")\n",
    "\n",
    "print(\"\\n변경 후\\n\")\n",
    "\n",
    "l.append(7)\n",
    "s.add(\"ㄹ\")\n",
    "d[4] = \"value4\"\n",
    "\n",
    "print(f\"list, 값 : {l} , 타입: {type(l)}\")\n",
    "print(f\"tuple, 값 : {t}, 타입 : {type(t)}\")\n",
    "print(f\"set, 값 : {s}, 타입 : {type(s)}\")\n",
    "print(f\"dictionary, 값 : {d}, 타입 : {type(d)}\")"
   ]
  },
  {
   "cell_type": "markdown",
   "metadata": {},
   "source": [
    "## Indexing(인덱싱) & Slicing(슬라이싱)\n",
    "\n",
    "# 1. Indexing(인덱싱)\n",
    "- 인덱싱은 시퀀스의 특정 위치에 접근하는 방법.\n",
    "- 인덱스는 0부터 시작, 음수 인덱스를 사용하면 뒤에서부터 접근 가능.\n",
    "\n",
    "# 2. Slicing(슬라이싱)\n",
    "- 슬라이싱은 시퀀스에서 특정 범위를 추출하는 방법.\n",
    "\n",
    "* 구문: sequence[start:end:step]\n",
    "  start: 시작 인덱스 (포함)\n",
    "  end: 끝 인덱스 (포함되지 않음)\n",
    "  step: 증가값 (기본값은 1)"
   ]
  },
  {
   "cell_type": "code",
   "execution_count": 12,
   "metadata": {},
   "outputs": [
    {
     "name": "stdout",
     "output_type": "stream",
     "text": [
      "인덱싱 : 4\n",
      "슬라이싱 : [1, 3, 5, 7]\n"
     ]
    }
   ],
   "source": [
    "print(f\"인덱싱 : {l[3]}\")\n",
    "print(f\"슬라이싱 : {l[0:len(l):2]}\")"
   ]
  }
 ],
 "metadata": {
  "kernelspec": {
   "display_name": "Python 3",
   "language": "python",
   "name": "python3"
  },
  "language_info": {
   "codemirror_mode": {
    "name": "ipython",
    "version": 3
   },
   "file_extension": ".py",
   "mimetype": "text/x-python",
   "name": "python",
   "nbconvert_exporter": "python",
   "pygments_lexer": "ipython3",
   "version": "3.11.9"
  }
 },
 "nbformat": 4,
 "nbformat_minor": 2
}
