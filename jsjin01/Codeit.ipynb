{
 "cells": [
  {
   "cell_type": "markdown",
   "metadata": {},
   "source": [
    "# 재귀 함수 \n",
    "함수 안에 함수를 계속 호출\n",
    "문제점 : 스택 오버 플로우 에러 발생 가능 => 콜스택이라는 함수 지점 저장 공간의 용량을 넘어가 버리는 것(파이썬에서는 1000번으로 해놓고 있음)"
   ]
  },
  {
   "cell_type": "code",
   "execution_count": 2,
   "metadata": {},
   "outputs": [
    {
     "name": "stdout",
     "output_type": "stream",
     "text": [
      "1\n",
      "3\n",
      "6\n",
      "10\n",
      "15\n",
      "21\n",
      "28\n",
      "36\n",
      "45\n",
      "55\n"
     ]
    }
   ],
   "source": [
    "def triangle_number(n):\n",
    "    # 여기에 코드를 작성하세요\n",
    "    if(n == 1):\n",
    "        return 1\n",
    "    else:\n",
    "        return n + triangle_number(n-1)\n",
    "        \n",
    "\n",
    "\n",
    "# 테스트 코드\n",
    "for i in range(1, 11):\n",
    "    print(triangle_number(i))"
   ]
  },
  {
   "cell_type": "code",
   "execution_count": 6,
   "metadata": {},
   "outputs": [
    {
     "name": "stdout",
     "output_type": "stream",
     "text": [
      "1\n",
      "1\n",
      "2\n",
      "3\n",
      "5\n",
      "8\n",
      "13\n",
      "21\n",
      "34\n",
      "55\n",
      "89\n",
      "144\n",
      "233\n",
      "377\n",
      "610\n"
     ]
    }
   ],
   "source": [
    "def fib(n):\n",
    "    # 여기에 코드를 작성하세요\n",
    "    if(n == 1 or n == 2):\n",
    "        return 1\n",
    "    else:\n",
    "        return fib(n-1) + fib(n-2)\n",
    "\n",
    "# 테스트 코드\n",
    "for i in range(1, 16):\n",
    "    print(fib(i))\n"
   ]
  },
  {
   "cell_type": "code",
   "execution_count": 10,
   "metadata": {},
   "outputs": [
    {
     "name": "stdout",
     "output_type": "stream",
     "text": [
      "14\n",
      "15\n",
      "16\n",
      "11\n",
      "20\n"
     ]
    }
   ],
   "source": [
    "def sum_digits(n):\n",
    "    # 여기에 코드를 작성하세요\n",
    "    result : int = 0\n",
    "    if(n <  10):\n",
    "        return n\n",
    "    elif(n > 10):\n",
    "        return sum_digits(int(n / 10)) + (n % 10)\n",
    "\n",
    "# 테스트 코드\n",
    "print(sum_digits(22541))\n",
    "print(sum_digits(92130))\n",
    "print(sum_digits(12634))\n",
    "print(sum_digits(704))\n",
    "print(sum_digits(3755))\n"
   ]
  },
  {
   "cell_type": "code",
   "execution_count": 12,
   "metadata": {},
   "outputs": [
    {
     "name": "stdout",
     "output_type": "stream",
     "text": [
      "5\n",
      "-1\n",
      "7\n",
      "2.8\n",
      "32\n"
     ]
    }
   ],
   "source": [
    "##list 쪼개서 판별\n",
    "def max_list(my_list):\n",
    "    # 여기에 코드를 작성하세요\n",
    "    if(len(my_list) == 1):\n",
    "        return my_list[0]\n",
    "    \n",
    "    max_sublist = max_list(my_list[:-1])\n",
    "    if max_sublist > my_list[-1]:\n",
    "        return max_sublist\n",
    "    else:\n",
    "        return my_list[-1]\n",
    "\n",
    "\n",
    "\n",
    "# 테스트 코드\n",
    "print(max_list([1, 4, 3, 2, 5, 0, 2]))\n",
    "print(max_list([-1, -3, -10, -5, -9]))\n",
    "print(max_list([3, 7, 3, 7, 7]))\n",
    "print(max_list([1, 2.7, -3, 2.8, 1.6]))\n",
    "print(max_list([32, 2, 3, 0 , 1]))"
   ]
  },
  {
   "cell_type": "code",
   "execution_count": 41,
   "metadata": {},
   "outputs": [
    {
     "name": "stdout",
     "output_type": "stream",
     "text": [
      "True\n",
      "True\n",
      "False\n",
      "True\n",
      "True\n",
      "False\n",
      "True\n"
     ]
    }
   ],
   "source": [
    "##문자열은 불변의 객체이므로 라스트처럼 제거 할 수 없음\n",
    "def is_palindrome(my_str):\n",
    "    if len(my_str) <= 1:\n",
    "        return True\n",
    "    elif len(my_str) == 2:\n",
    "        return my_str[0] == my_str[1]\n",
    "    \n",
    "    if my_str[0] == my_str[-1]:\n",
    "        return is_palindrome(my_str[1:-1])  \n",
    "    else:\n",
    "        return False\n",
    "\n",
    "    \n",
    "\n",
    "\n",
    "# 테스트 코드\n",
    "print(is_palindrome('기러기'))\n",
    "print(is_palindrome('토마토'))\n",
    "print(is_palindrome('바나나'))\n",
    "print(is_palindrome('racecar'))\n",
    "print(is_palindrome('radar'))\n",
    "print(is_palindrome('stars'))\n",
    "print(is_palindrome('123321'))"
   ]
  },
  {
   "cell_type": "code",
   "execution_count": 47,
   "metadata": {},
   "outputs": [
    {
     "name": "stdout",
     "output_type": "stream",
     "text": [
      "8\n",
      "1\n",
      "1419857\n",
      "129140163\n",
      "68719476736\n"
     ]
    }
   ],
   "source": [
    "def power(x, n):\n",
    "    # 여기에 코드를 작성하세요\n",
    "    if(n == 0):\n",
    "        return 1\n",
    "    elif(n == 1):\n",
    "        return x\n",
    "    elif(n >= 2):\n",
    "        if(n % 2 == 1):\n",
    "            return x * power(x,n//2) * power(x,n//2)\n",
    "        else:\n",
    "            return power(x,n//2) * power(x,n//2)\n",
    "\n",
    "# 테스트 코드\n",
    "print(power(2, 3))\n",
    "print(power(5, 0))\n",
    "print(power(17, 5))\n",
    "print(power(3, 17))\n",
    "print(power(4, 18))\n"
   ]
  }
 ],
 "metadata": {
  "kernelspec": {
   "display_name": "Python 3",
   "language": "python",
   "name": "python3"
  },
  "language_info": {
   "codemirror_mode": {
    "name": "ipython",
    "version": 3
   },
   "file_extension": ".py",
   "mimetype": "text/x-python",
   "name": "python",
   "nbconvert_exporter": "python",
   "pygments_lexer": "ipython3",
   "version": "3.11.9"
  }
 },
 "nbformat": 4,
 "nbformat_minor": 2
}
