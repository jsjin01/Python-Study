{
 "cells": [
  {
   "cell_type": "markdown",
   "metadata": {},
   "source": [
    "## Instance(인스턴스) && Class(클래스)\n",
    "\n",
    "- 클래스와 인스턴스 관계 \n",
    "=> 클래스를 가지고 인스턴스를 제작. 즉, 클래스는 붕어빵틀, 인스턴스는 붕어빵이라고 생각하면 편함\n",
    "\n",
    "-인스턴스는 속성과 메서드를 가질 수 있음\n",
    "=>여기서 클래스에서 만든 속성을 제외한 인스턴스만 가지고 있는 속성을 만들 수도 있음\n",
    "=>self는 인스턴스 자신을 참조하는 변수 자동으로 현재 인스턴스를 self에 전달\n",
    "=>class에서 선언하지 않은 속성을 instance에서 선언해서 사용하고, 메서드에서도 사용 가능  \n",
    "=>__init__ (생성자) __str__ (문자열 변환)매소드는 같은 특수 메소드 존재"
   ]
  },
  {
   "cell_type": "code",
   "execution_count": 3,
   "metadata": {},
   "outputs": [
    {
     "name": "stdout",
     "output_type": "stream",
     "text": [
      "Young 2 2\n",
      "Yoonsoo 1 3\n",
      "Taeho 2 0\n",
      "Lisa 1 1\n"
     ]
    }
   ],
   "source": [
    "##코드잇 예제\n",
    "class User:\n",
    "    # 인스턴스 변수 설정\n",
    "    def __init__(self, name, email, password):\n",
    "        self.name = name\n",
    "        self.email = email\n",
    "        self.password = password\n",
    "\n",
    "        self.following_list = []    # 이 유저가 팔로우하는 유저 리스트\n",
    "        self.followers_list = []    # 이 유저를 팔로우하는 유저 리스트\n",
    "\n",
    "    # 팔로우\n",
    "    def follow(self, another_user):\n",
    "        # 여기에 코드를 작성하세요\n",
    "        self.following_list.append(another_user)\n",
    "        another_user.followers_list.append(self)\n",
    "\n",
    "    # 내가 몇 명을 팔로우하는지 리턴\n",
    "    def num_following(self):\n",
    "        # 여기에 코드를 작성하세요\n",
    "        return len(self.following_list)\n",
    "\n",
    "    # 나를 몇 명이 팔로우하는지 리턴\n",
    "    def num_followers(self):\n",
    "        # 여기에 코드를 작성하세요\n",
    "        return len(self.followers_list)\n",
    "\n",
    "# 유저들 생성\n",
    "user1 = User(\"Young\", \"young@codeit.kr\", \"123456\")\n",
    "user2 = User(\"Yoonsoo\", \"yoonsoo@codeit.kr\", \"abcdef\")\n",
    "user3 = User(\"Taeho\", \"taeho@codeit.kr\", \"123abc\")\n",
    "user4 = User(\"Lisa\", \"lisa@codeit.kr\", \"abc123\")\n",
    "\n",
    "# 유저마다 서로 관심 있는 유저를 팔로우\n",
    "user1.follow(user2)\n",
    "user1.follow(user3)\n",
    "user2.follow(user1)\n",
    "user2.follow(user3)\n",
    "user2.follow(user4)\n",
    "user4.follow(user1)\n",
    "\n",
    "# 유저 이름, 자신의 팔로워 수, 자신이 팔로우하는 사람 수를 출력합니다\n",
    "print(user1.name, user1.num_followers(), user1.num_following())\n",
    "print(user2.name, user2.num_followers(), user2.num_following())\n",
    "print(user3.name, user3.num_followers(), user3.num_following())\n",
    "print(user4.name, user4.num_followers(), user4.num_following())"
   ]
  },
  {
   "cell_type": "code",
   "execution_count": 6,
   "metadata": {},
   "outputs": [
    {
     "name": "stdout",
     "output_type": "stream",
     "text": [
      "햄버거 가격: 4000\n",
      "콜라 가격: 1500\n",
      "후렌치 후라이 가격: 1500\n"
     ]
    }
   ],
   "source": [
    "class MenuItem:\n",
    "    # 음식 메뉴를 나타내는 클래스\n",
    "    def __init__(self, name, price):\n",
    "        # 여기에 코드를 작성하세요\n",
    "        self.name = name\n",
    "        self.price = price\n",
    "    def __str__(self):\n",
    "        # 여기에 코드를 작성하세요\n",
    "        return f\"{self.name} 가격: {self.price}\"\n",
    "\n",
    "# 메뉴 인스턴스 생성\n",
    "burger = MenuItem(\"햄버거\", 4000)\n",
    "coke = MenuItem(\"콜라\", 1500)\n",
    "fries = MenuItem(\"후렌치 후라이\", 1500)\n",
    "\n",
    "# 메뉴 인스턴스 출력\n",
    "print(str(burger))\n",
    "print(str(coke))\n",
    "print(str(fries))"
   ]
  },
  {
   "cell_type": "code",
   "execution_count": 9,
   "metadata": {},
   "outputs": [
    {
     "name": "stdout",
     "output_type": "stream",
     "text": [
      "Ww영훈전사wW님은 이미 죽었습니다.\n",
      "Ww영훈전사wW님의 hp는 0만큼 남았습니다.\n",
      "Xx지웅최고xX님의 hp는 70만큼 남았습니다.\n"
     ]
    }
   ],
   "source": [
    "class GameCharacter:\n",
    "    # 게임 캐릭터 클래스\n",
    "    def __init__(self, name, hp, power):\n",
    "        # 게임 캐릭터는 속성으로 이름, hp, 공격력을 갖는다\n",
    "        self.name = name\n",
    "        self.hp = hp\n",
    "        self.power = power\n",
    "\n",
    "    def is_alive(self):\n",
    "        # 게임 캐릭터가 살아있는지(체력이 0이 넘는지) 확인하는 메소드\n",
    "        if(self.hp > 0):\n",
    "            return True\n",
    "        else: \n",
    "            return False\n",
    "\n",
    "    def get_attacked(self, damage):\n",
    "        \"\"\"\n",
    "        게임 캐릭터가 살아있으면 공격한 캐릭터의 공격력만큼 체력을 깎는 메소드\n",
    "        조건:    \n",
    "            1. 이미 캐릭터가 죽었으면 죽었다는 메시지를 출력한다\n",
    "            2. 남은 체력보다 공격력이 더 크면 체력은 0이 된다\n",
    "        \"\"\"\n",
    "        if(not self.is_alive()):\n",
    "            print(f\"{self.name}님은 이미 죽었습니다.\")\n",
    "            return\n",
    "        else:\n",
    "            self.hp -= damage\n",
    "        \n",
    "        if(self.hp < damage):\n",
    "            self.hp = 0\n",
    "        \n",
    "\n",
    "\n",
    "\n",
    "    def attack(self, other_character):\n",
    "        # 게임 캐릭터가 살아있으면 파라미터로 받은 다른 캐릭터의 체력을 자신의 공격력만큼 깎는다\n",
    "        if(self.is_alive()):\n",
    "            other_character.get_attacked(self.power)\n",
    "\n",
    "\n",
    "    def __str__(self):\n",
    "        # 게임 캐릭터의 의미있는 정보를 포함한 문자열을 리턴한다\n",
    "        return f\"{self.name}님의 hp는 {self.hp}만큼 남았습니다.\"\n",
    "\n",
    "# 게임 캐릭터 인스턴스 생성                        \n",
    "character_1 = GameCharacter(\"Ww영훈전사wW\", 200, 30)\n",
    "character_2 = GameCharacter(\"Xx지웅최고xX\", 100, 50)\n",
    "\n",
    "# 게임 캐릭터 인스턴스들 서로 공격\n",
    "character_1.attack(character_2)\n",
    "character_2.attack(character_1)\n",
    "character_2.attack(character_1)\n",
    "character_2.attack(character_1)\n",
    "character_2.attack(character_1)\n",
    "character_2.attack(character_1)\n",
    "\n",
    "# 게임 캐릭터 인스턴스 출력\n",
    "print(character_1)\n",
    "print(character_2)"
   ]
  },
  {
   "cell_type": "code",
   "execution_count": null,
   "metadata": {},
   "outputs": [],
   "source": []
  }
 ],
 "metadata": {
  "kernelspec": {
   "display_name": "Python 3",
   "language": "python",
   "name": "python3"
  },
  "language_info": {
   "codemirror_mode": {
    "name": "ipython",
    "version": 3
   },
   "file_extension": ".py",
   "mimetype": "text/x-python",
   "name": "python",
   "nbconvert_exporter": "python",
   "pygments_lexer": "ipython3",
   "version": "3.11.9"
  }
 },
 "nbformat": 4,
 "nbformat_minor": 2
}
