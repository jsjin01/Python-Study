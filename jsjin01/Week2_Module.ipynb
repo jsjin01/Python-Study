{
 "cells": [
  {
   "cell_type": "markdown",
   "metadata": {},
   "source": [
    "## Module & File\n",
    "\n",
    "# Module\n",
    "- Python에서 함수, 클래스, 변수 등을 하나의 파일에 모아 놓은 단위로 코드의 재사용성과 조직화를 향상시키는 중요한 개념이다. 모듈을 활용하면 코드의 중복을 줄이고, 유지 보수를 용이하게 하며, 기능을 논리적으로 분리할 수 있다. \n",
    "- Module은 .py 사용\n",
    "- Module을 수정 후에는 Importlib를 사용하여 importlib.reload(모듈 이름) 메서드를 사용하여 수정한 거 업로드 \n",
    "- Standart Module이 많이 나와있으므로 사용하기\n",
    "\n"
   ]
  },
  {
   "cell_type": "code",
   "execution_count": 111,
   "metadata": {},
   "outputs": [
    {
     "name": "stdout",
     "output_type": "stream",
     "text": [
      "더하기 : 15, 빼기 : 5\n"
     ]
    }
   ],
   "source": [
    "import importlib\n",
    "import TestModule as tm\n",
    "importlib.reload(tm)\n",
    "cal = tm.Calculator()\n",
    "\n",
    "a = 10\n",
    "b = 5\n",
    "print(f\"더하기 : {cal.add(a, b)}, 빼기 : {cal.sub(a, b)}\")"
   ]
  },
  {
   "cell_type": "markdown",
   "metadata": {},
   "source": [
    "## File\n",
    "\n",
    "# file 열기 \n",
    "- with open(\"파일명\", \"모드\") 이용해서 열기\n",
    "- r : 읽\n",
    "- w : 새로 써서 덮어쓰기\n",
    "- a : 계속 이어서 쓰기\n",
    "\n",
    "* .strip() : \\명령 삭제\n",
    "* .split() :()안에 해당하는 문자열 기준으로 리스트로 만들어줌"
   ]
  },
  {
   "cell_type": "code",
   "execution_count": 126,
   "metadata": {},
   "outputs": [
    {
     "name": "stdout",
     "output_type": "stream",
     "text": [
      "1.응애\n",
      "\n",
      "2.애응\n",
      "\n",
      "3.으애애\n",
      "\n",
      "4.웅애\n",
      "\n",
      "5.옹애\n",
      "\n",
      "6.잉애\n",
      "\n",
      "7.애응\n",
      "\n",
      "8.에응\n",
      "\n",
      "9.애웅\n",
      "\n",
      "10.애옹\n",
      "\n",
      "11.애으응\n",
      "\n",
      "12.에에애으응\n",
      "Hello world \n",
      "\n",
      "write\n"
     ]
    }
   ],
   "source": [
    "with open('data/testText.txt', 'r',encoding='utf-8') as f:\n",
    "    for line in f:\n",
    "        print(line)\n",
    "with open('data/testNewText.txt', 'w',encoding='utf-8') as f:\n",
    "    f.write(\"Hello world \\n\")\n",
    "    f.write(\"write\")\n",
    "with open('data/testNewText.txt', 'r',encoding='utf-8') as f:\n",
    "    for line in f:\n",
    "        print(line)"
   ]
  }
 ],
 "metadata": {
  "kernelspec": {
   "display_name": "Python 3",
   "language": "python",
   "name": "python3"
  },
  "language_info": {
   "codemirror_mode": {
    "name": "ipython",
    "version": 3
   },
   "file_extension": ".py",
   "mimetype": "text/x-python",
   "name": "python",
   "nbconvert_exporter": "python",
   "pygments_lexer": "ipython3",
   "version": "3.11.9"
  }
 },
 "nbformat": 4,
 "nbformat_minor": 2
}
