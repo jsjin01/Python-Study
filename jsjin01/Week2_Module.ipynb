{
 "cells": [
  {
   "cell_type": "markdown",
   "metadata": {},
   "source": [
    "## Module & File\n",
    "\n",
    "# Module\n",
    "- Python에서 함수, 클래스, 변수 등을 하나의 파일에 모아 놓은 단위로 코드의 재사용성과 조직화를 향상시키는 중요한 개념이다. 모듈을 활용하면 코드의 중복을 줄이고, 유지 보수를 용이하게 하며, 기능을 논리적으로 분리할 수 있다. \n",
    "- Module은 .py 사용\n",
    "- Module을 수정 후에는 Importlib를 사용하여 importlib.reload(모듈 이름) 메서드를 사용하여 수정한 거 업로드 \n",
    "- Standart Module이 많이 나와있으므로 사용하기\n",
    "\n"
   ]
  },
  {
   "cell_type": "code",
   "execution_count": 111,
   "metadata": {},
   "outputs": [
    {
     "name": "stdout",
     "output_type": "stream",
     "text": [
      "더하기 : 15, 빼기 : 5\n"
     ]
    }
   ],
   "source": [
    "import importlib\n",
    "import TestModule as tm\n",
    "importlib.reload(tm)\n",
    "cal = tm.Calculator()\n",
    "\n",
    "a = 10\n",
    "b = 5\n",
    "print(f\"더하기 : {cal.add(a, b)}, 빼기 : {cal.sub(a, b)}\")"
   ]
  },
  {
   "cell_type": "markdown",
   "metadata": {},
   "source": [
    "## File\n",
    "\n",
    "# file 열기 \n",
    "- with open(\"파일명\", \"모드\") 이용해서 열기\n",
    "- r : 읽\n",
    "- w : 새로 써서 덮어쓰기\n",
    "- a : 계속 이어서 쓰기\n",
    "\n",
    "* .strip() : \\명령 삭제\n",
    "* .split() :()안에 해당하는 문자열 기준으로 리스트로 만들어줌"
   ]
  },
  {
   "cell_type": "code",
   "execution_count": 9,
   "metadata": {},
   "outputs": [
    {
     "name": "stdout",
     "output_type": "stream",
     "text": [
      "1.응애\n",
      "\n",
      "2.애응\n",
      "\n",
      "3.으애애\n",
      "\n",
      "4.웅애\n",
      "\n",
      "5.옹애\n",
      "\n",
      "6.잉애\n",
      "\n",
      "7.애응\n",
      "\n",
      "8.에응\n",
      "\n",
      "9.애웅\n",
      "\n",
      "10.애옹\n",
      "\n",
      "11.애으응\n",
      "\n",
      "12.에에애으응\n",
      "Hello world \n",
      "\n",
      "write\n"
     ]
    }
   ],
   "source": [
    "with open('data/testText.txt', 'r',encoding='utf-8') as f:\n",
    "    for line in f:\n",
    "        print(line)\n",
    "with open('data/testNewText.txt', 'w',encoding='utf-8') as f:\n",
    "    f.write(\"Hello world \\n\")\n",
    "    f.write(\"write\")\n",
    "with open('data/testNewText.txt', 'r',encoding='utf-8') as f:\n",
    "    for line in f:\n",
    "        print(line)"
   ]
  },
  {
   "cell_type": "code",
   "execution_count": 5,
   "metadata": {},
   "outputs": [
    {
     "name": "stdout",
     "output_type": "stream",
     "text": [
      "501916.12903225806\n"
     ]
    }
   ],
   "source": [
    "##코드잇 예제\n",
    "money = 0\n",
    "count =0\n",
    "with open('data/chicken.txt', 'r', encoding= \"utf-8\") as f:\n",
    "    for line in f:\n",
    "        lineinfo = line.split(\": \")\n",
    "        money += float(lineinfo[1])\n",
    "        count += 1\n",
    "\n",
    "print(f\"{money/count}\")"
   ]
  },
  {
   "cell_type": "code",
   "execution_count": 18,
   "metadata": {},
   "outputs": [],
   "source": [
    "##코드잇 예제\n",
    "while True:\n",
    "    english_word = input('영어 단어를 입력하세요: ')    \n",
    "    if english_word == 'q':\n",
    "        break\n",
    "        \n",
    "    korean_word = input('한국어 뜻을 입력하세요: ')\n",
    "    if korean_word == 'q':\n",
    "        break\n",
    "    with open('data/vocabulary.txt', 'a', encoding= \"utf-8\") as f:\n",
    "        f.write(f'{english_word}: {korean_word}\\n')"
   ]
  },
  {
   "cell_type": "code",
   "execution_count": null,
   "metadata": {},
   "outputs": [
    {
     "name": "stdout",
     "output_type": "stream",
     "text": [
      "아쉽습니다. 정답은 cat입니다.\n",
      "아쉽습니다. 정답은 apple입니다.\n",
      "아쉽습니다. 정답은 church입니다.\n",
      "아쉽습니다. 정답은 temple입니다.\n",
      "아쉽습니다. 정답은 wallet입니다.\n",
      "아쉽습니다. 정답은 backpack입니다.\n",
      "아쉽습니다. 정답은 soap입니다.\n",
      "아쉽습니다. 정답은 bicycle입니다.\n"
     ]
    }
   ],
   "source": [
    "##코드잇 예제\n",
    "with open('data/vocabulary.txt', 'r', encoding= \"utf-8\") as f:\n",
    "    for line in f:\n",
    "        test_word = line.split(': ')\n",
    "        english_test = test_word[0]\n",
    "        korean_test = test_word[1]\n",
    "        user_input = input(f\"{korean_test} :\")\n",
    "        if(user_input == english_test):\n",
    "            print(\"맞았습니다!\")\n",
    "        else:\n",
    "            print(f\"아쉽습니다. 정답은 {english_test}입니다.\")"
   ]
  },
  {
   "cell_type": "code",
   "execution_count": 43,
   "metadata": {},
   "outputs": [
    {
     "name": "stdout",
     "output_type": "stream",
     "text": [
      "아쉽습니다. 정답은 wallet입니다.\n",
      "아쉽습니다. 정답은 soap입니다.\n",
      "아쉽습니다. 정답은 bicycle입니다.\n",
      "아쉽습니다. 정답은 apple입니다.\n",
      "아쉽습니다. 정답은 backpack입니다.\n",
      "아쉽습니다. 정답은 soap입니다.\n",
      "아쉽습니다. 정답은 cat입니다.\n",
      "아쉽습니다. 정답은 bicycle입니다.\n",
      "아쉽습니다. 정답은 wallet입니다.\n"
     ]
    }
   ],
   "source": [
    "##코드잇 예제\n",
    "import random\n",
    "i : int = 0\n",
    "kr_word = {}\n",
    "en_word = {}\n",
    "with open('data/vocabulary.txt', 'r', encoding= \"utf-8\") as f:\n",
    "    for line in f:\n",
    "        test_word = line.split(': ')\n",
    "        en_word[i] = test_word[0]\n",
    "        kr_word[i] = test_word[1]\n",
    "        i += 1\n",
    "\n",
    "while True:\n",
    "    randNum = random.randint(0, len(en_word) - 1)\n",
    "    user_input = input(f\"{kr_word[randNum]} :\")\n",
    "    if(user_input == \"q\"):\n",
    "        break\n",
    "    elif(user_input == en_word[randNum]):\n",
    "        print(\"맞았습니다!\")\n",
    "    else:\n",
    "       print(f\"아쉽습니다. 정답은 {en_word[randNum]}입니다.\") \n",
    "\n",
    "        \n"
   ]
  },
  {
   "cell_type": "code",
   "execution_count": 111,
   "metadata": {},
   "outputs": [
    {
     "name": "stdout",
     "output_type": "stream",
     "text": [
      "[2, 7, 21, 26, 44, 45, 35]\n"
     ]
    }
   ],
   "source": [
    "from random import randint\n",
    "\n",
    "\n",
    "def generate_numbers(n):\n",
    "    # 지난 실습의 코드를 여기에 붙여 넣으세요\n",
    "    numbers = []\n",
    "\n",
    "    while len(numbers) < n:\n",
    "        num = randint(1, 45)\n",
    "        if num not in numbers:\n",
    "            numbers.append(num)\n",
    "\n",
    "    return numbers\n",
    "\n",
    "def draw_winning_numbers():\n",
    "    # 여기에 코드를 작성하세요\n",
    "    sort_num = generate_numbers(6)\n",
    "    sort_num.sort()\n",
    "    while True:\n",
    "        num = randint(1, 45)\n",
    "        if num not in sort_num:\n",
    "            sort_num.append(num)\n",
    "            break\n",
    "    return sort_num\n",
    "\n",
    "\n",
    "# 테스트 코드\n",
    "print(draw_winning_numbers())"
   ]
  },
  {
   "cell_type": "code",
   "execution_count": 124,
   "metadata": {},
   "outputs": [
    {
     "name": "stdout",
     "output_type": "stream",
     "text": [
      "0과 9 사이의 서로 다른 숫자 3개를 랜덤한 순서로 뽑았습니다.\n",
      "\n",
      "[3, 4, 0]\n",
      "숫자 3개를 하나씩 차례대로 입력하세요.\n",
      "범위를 벗어나는 숫자입니다. 다시 입력하세요.\n",
      "범위를 벗어나는 숫자입니다. 다시 입력하세요.\n",
      "중복되는 숫자입니다. 다시 입력하세요.\n",
      "[9, 3, 2]\n"
     ]
    }
   ],
   "source": [
    "from random import randint\n",
    "\n",
    "\n",
    "def generate_numbers():\n",
    "    numbers = []\n",
    "\n",
    "    # 여기에 코드를 작성하세요\n",
    "    while len(numbers) != 3:\n",
    "        num = randint(0,9)\n",
    "        if num not in numbers:\n",
    "            numbers.append(num)\n",
    "    print(\"0과 9 사이의 서로 다른 숫자 3개를 랜덤한 순서로 뽑았습니다.\\n\")\n",
    "    return numbers\n",
    "\n",
    "\n",
    "# 테스트 코드\n",
    "print(generate_numbers())\n",
    "\n",
    "def take_guess():\n",
    "    print(\"숫자 3개를 하나씩 차례대로 입력하세요.\")\n",
    "    \n",
    "    new_guess = []\n",
    "    # 여기에 코드를 작성하세요\n",
    "    while len(new_guess) != 3:\n",
    "        user_input1 = int(input())\n",
    "        if(user_input1 >= 0 and user_input1 <= 9 and (user_input1 not in new_guess)):\n",
    "            new_guess.append(user_input1)\n",
    "        elif(user_input1 < 0 or user_input1 > 9):\n",
    "            print(\"범위를 벗어나는 숫자입니다. 다시 입력하세요.\")\n",
    "        else:\n",
    "            print(\"중복되는 숫자입니다. 다시 입력하세요.\")\n",
    "            \n",
    "    return new_guess\n",
    "    \n",
    "    \n",
    "# 테스트 코드\n",
    "print(take_guess())"
   ]
  },
  {
   "cell_type": "code",
   "execution_count": null,
   "metadata": {},
   "outputs": [],
   "source": []
  }
 ],
 "metadata": {
  "kernelspec": {
   "display_name": "Python 3",
   "language": "python",
   "name": "python3"
  },
  "language_info": {
   "codemirror_mode": {
    "name": "ipython",
    "version": 3
   },
   "file_extension": ".py",
   "mimetype": "text/x-python",
   "name": "python",
   "nbconvert_exporter": "python",
   "pygments_lexer": "ipython3",
   "version": "3.11.9"
  }
 },
 "nbformat": 4,
 "nbformat_minor": 2
}
