{
 "cells": [
  {
   "cell_type": "code",
   "execution_count": null,
   "metadata": {},
   "outputs": [
    {
     "name": "stdout",
     "output_type": "stream",
     "text": [
      "o\n"
     ]
    }
   ],
   "source": [
    "## Problem_01\n",
    "\n",
    "S = input()\n",
    "i = int(input())\n",
    "\n",
    "print(S[i-1])\n"
   ]
  },
  {
   "cell_type": "code",
   "execution_count": 3,
   "metadata": {},
   "outputs": [
    {
     "name": "stdout",
     "output_type": "stream",
     "text": [
      "8\n"
     ]
    }
   ],
   "source": [
    "## Problem_02\n",
    "\n",
    "s= input()\n",
    "print(len(s))"
   ]
  },
  {
   "cell_type": "code",
   "execution_count": 1,
   "metadata": {},
   "outputs": [
    {
     "name": "stdout",
     "output_type": "stream",
     "text": [
      "AE\n",
      "OO\n",
      "AB\n"
     ]
    }
   ],
   "source": [
    "## Problem_03\n",
    "\n",
    "T = int(input())\n",
    "for i in range(T):\n",
    "    s= input()\n",
    "    print(f\"{s[0]}{s[len(s)-1]}\")"
   ]
  },
  {
   "cell_type": "code",
   "execution_count": 3,
   "metadata": {},
   "outputs": [
    {
     "name": "stdout",
     "output_type": "stream",
     "text": [
      "48\n"
     ]
    }
   ],
   "source": [
    "## Problem_04\n",
    "\n",
    "s = input()\n",
    "print(ord(s))"
   ]
  },
  {
   "cell_type": "code",
   "execution_count": 10,
   "metadata": {},
   "outputs": [
    {
     "name": "stdout",
     "output_type": "stream",
     "text": [
      "1\n"
     ]
    }
   ],
   "source": [
    "## Problem_05\n",
    "n = int(input())\n",
    "s = input()\n",
    "sum : int = 0\n",
    "for i in range(n):\n",
    "    sum += int(s[len(s)-1 - i])\n",
    "\n",
    "print(sum)"
   ]
  },
  {
   "cell_type": "code",
   "execution_count": null,
   "metadata": {},
   "outputs": [
    {
     "name": "stdout",
     "output_type": "stream",
     "text": [
      "1 0 -1 -1 2 -1 -1 -1 -1 4 3 -1 -1 7 5 -1 -1 -1 -1 -1 -1 -1 -1 -1 \n"
     ]
    }
   ],
   "source": [
    "## Problem_06\n",
    "alphabet = \"abcdefghijklmnopqrstuvwxyz\"\n",
    "alphabet_position = [-1] * 26\n",
    "s_position = \"\"\n",
    "s = input()\n",
    "\n",
    "for n in range(len(alphabet)):\n",
    "    for i in range(len(s)+1):\n",
    "        if(alphabet[n-1]== s[i-1]):\n",
    "            if(alphabet_position[n-1] == -1):\n",
    "                alphabet_position[n-1] = i-1\n",
    "\n",
    "for k in alphabet_position:\n",
    "    s_position = s_position + f\"{k}\" + \" \"\n",
    "\n",
    "print(s_position)\n"
   ]
  },
  {
   "cell_type": "code",
   "execution_count": 26,
   "metadata": {},
   "outputs": [
    {
     "name": "stdout",
     "output_type": "stream",
     "text": [
      "AAABBBCCC\n",
      "/////HHHHHTTTTTPPPPP\n"
     ]
    }
   ],
   "source": [
    "## Problem_07\n",
    "T = int(input())\n",
    "\n",
    "for i in range(T):\n",
    "    r, s = map(str ,input().split( ))\n",
    "    ps = \"\"\n",
    "    for a in s:\n",
    "        for b in range(int(r)):\n",
    "            ps = ps + a    \n",
    "    print(ps)"
   ]
  },
  {
   "cell_type": "code",
   "execution_count": 29,
   "metadata": {},
   "outputs": [
    {
     "name": "stdout",
     "output_type": "stream",
     "text": [
      "6\n"
     ]
    }
   ],
   "source": [
    "## Problem_08\n",
    "\n",
    "s_list = map(str, input().split())\n",
    "count = 0\n",
    "for i in s_list:\n",
    "    count += 1\n",
    "\n",
    "print(count)"
   ]
  },
  {
   "cell_type": "code",
   "execution_count": null,
   "metadata": {},
   "outputs": [
    {
     "name": "stdout",
     "output_type": "stream",
     "text": [
      "437\n"
     ]
    }
   ],
   "source": [
    "# Problem_09\n",
    "\n",
    "a,b = map(str, input().split())\n",
    "n,m = \"\", \"\"\n",
    "\n",
    "for i in range(len(a)):\n",
    "    n += a[len(a) - 1 -i]\n",
    "for j in range(len(b)):\n",
    "    m += b[len(b)- 1 -j]\n",
    "\n",
    "result =  n if int(n) > int(m) else m\n",
    "##Python에서의 삼항 연산자\n",
    "\n",
    "print(result)"
   ]
  },
  {
   "cell_type": "code",
   "execution_count": 3,
   "metadata": {},
   "outputs": [
    {
     "name": "stdout",
     "output_type": "stream",
     "text": [
      "36\n"
     ]
    }
   ],
   "source": [
    "## Problem_10\n",
    "\n",
    "s = input()\n",
    "sum = 0\n",
    "\n",
    "\n",
    "for i in s:\n",
    "    if(i == \"A\" or i == \"B\" or i == \"C\"):\n",
    "        sum += 3\n",
    "    elif(i == \"D\"or i == \"E\" or i == \"F\"):\n",
    "        sum += 4\n",
    "    elif(i == \"G\"or i == \"H\" or i == \"I\"):\n",
    "        sum += 5\n",
    "    elif(i == \"J\"or i == \"K\" or i == \"L\"):\n",
    "        sum += 6\n",
    "    elif(i == \"M\"or i == \"N\" or i == \"O\"):\n",
    "        sum += 7\n",
    "    elif(i == \"P\"or i == \"Q\" or i == \"R\" or i ==\"S\"):\n",
    "        sum += 8\n",
    "    elif(i == \"T\"or i == \"U\" or i == \"V\"):\n",
    "        sum += 9\n",
    "    elif(i == \"W\" or i == \"X\" or i == \"Y\" or i ==\"Z\"):\n",
    "        sum += 10\n",
    "    \n",
    "print(sum)"
   ]
  },
  {
   "cell_type": "code",
   "execution_count": null,
   "metadata": {},
   "outputs": [],
   "source": [
    "import sys\n",
    "\n",
    "user_input = sys.stdin.read()  \n",
    "print(user_input) \n",
    "\n",
    "##(EOF 종료) => Ctrl + D or Ctrl + Z + Enter를 누르면 입력을 종료할 수 있음\n",
    "##따라서 엔터를 눌러서 더 입력을 할 수 있음"
   ]
  }
 ],
 "metadata": {
  "kernelspec": {
   "display_name": "Python 3",
   "language": "python",
   "name": "python3"
  },
  "language_info": {
   "codemirror_mode": {
    "name": "ipython",
    "version": 3
   },
   "file_extension": ".py",
   "mimetype": "text/x-python",
   "name": "python",
   "nbconvert_exporter": "python",
   "pygments_lexer": "ipython3",
   "version": "3.12.9"
  }
 },
 "nbformat": 4,
 "nbformat_minor": 2
}
