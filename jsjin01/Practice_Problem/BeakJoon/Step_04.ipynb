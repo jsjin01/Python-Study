{
 "cells": [
  {
   "cell_type": "code",
   "execution_count": 7,
   "metadata": {},
   "outputs": [
    {
     "name": "stdout",
     "output_type": "stream",
     "text": [
      "[1, 4, 1, 2, 4, 2, 4, 2, 3, 4, 4]\n",
      "3\n"
     ]
    }
   ],
   "source": [
    "#문제 1\n",
    "num = int(input())\n",
    "num_array = list(map(int, input().split()))\n",
    "select_num = int(input())\n",
    "count = 0\n",
    "\n",
    "for i in range (num):\n",
    "    if(num_array[i] == select_num):\n",
    "        count += 1\n",
    "\n",
    "print(count)"
   ]
  },
  {
   "cell_type": "code",
   "execution_count": 18,
   "metadata": {},
   "outputs": [
    {
     "name": "stdout",
     "output_type": "stream",
     "text": [
      "1 4 2 3 \n"
     ]
    }
   ],
   "source": [
    "#문제 2\n",
    "N, X = map(int, input().split())\n",
    "num_array = list(map(int, input().split()))\n",
    "select_array : list = []\n",
    "\n",
    "for i in range (N):\n",
    "    if(num_array[i] < X):\n",
    "        select_array.append(num_array[i])\n",
    "\n",
    "s = \"\"\n",
    "for i in select_array:\n",
    "    s += str(i) + \" \" \n",
    "\n",
    "print(s)"
   ]
  },
  {
   "cell_type": "code",
   "execution_count": 19,
   "metadata": {},
   "outputs": [
    {
     "name": "stdout",
     "output_type": "stream",
     "text": [
      "35 7\n"
     ]
    }
   ],
   "source": [
    "#문제 3\n",
    "num = int(input())\n",
    "num_array = list(map(int, input().split()))\n",
    "max = num_array[0]\n",
    "min = num_array[0]\n",
    "\n",
    "for i in range (num):\n",
    "    if(max <= num_array[i]):\n",
    "        max = num_array[i]\n",
    "    \n",
    "    if(min >= num_array[i]):\n",
    "        min = num_array[i]\n",
    "\n",
    "print(f\"{min} {max}\")\n"
   ]
  },
  {
   "cell_type": "code",
   "execution_count": 24,
   "metadata": {},
   "outputs": [
    {
     "name": "stdout",
     "output_type": "stream",
     "text": [
      "85\n",
      "7\n"
     ]
    }
   ],
   "source": [
    "#문제 4\n",
    "num_array : list = []\n",
    "\n",
    "for i in range (9):\n",
    "    num = int(input())\n",
    "    num_array.append(num)\n",
    "\n",
    "max = num_array[0]\n",
    "max_index = 0\n",
    "\n",
    "for i in range (9):\n",
    "    if(max <= num_array[i]):\n",
    "        max = num_array[i]\n",
    "        max_count = i\n",
    "\n",
    "print(max)\n",
    "print(max_count+1)"
   ]
  },
  {
   "cell_type": "code",
   "execution_count": 5,
   "metadata": {},
   "outputs": [
    {
     "name": "stdout",
     "output_type": "stream",
     "text": [
      "[3, 3, 0, 0, 0]\n",
      "[3, 3, 4, 4, 0]\n",
      "[1, 1, 1, 1, 0]\n",
      "[1, 2, 1, 1, 0]\n",
      "1 2 1 1 0 \n"
     ]
    }
   ],
   "source": [
    "#문제 5\n",
    "M, N = map(int, input().split())\n",
    "num_array = [0] * M\n",
    "for i in range (N):\n",
    "    select_array = list(map(int, input().split()))\n",
    "    select_array[0] -= 1\n",
    "    \n",
    "    for b in range (select_array[0], select_array[1]):\n",
    "        if(not num_array[b] == 0):\n",
    "            num_array[b] = 0\n",
    "\n",
    "        num_array[b] += select_array[2]\n",
    "\n",
    "s = \"\"\n",
    "\n",
    "for i in num_array:\n",
    "    s += str(i) + \" \"\n",
    "\n",
    "print(s)"
   ]
  },
  {
   "cell_type": "code",
   "execution_count": 11,
   "metadata": {},
   "outputs": [
    {
     "name": "stdout",
     "output_type": "stream",
     "text": [
      "3 1 4 2 5 \n"
     ]
    }
   ],
   "source": [
    "# 문제 6\n",
    "M, N = map(int, input().split())\n",
    "num_array = [0] * M\n",
    "\n",
    "for i in range (1, M + 1):\n",
    "    num_array[i - 1] += i\n",
    "\n",
    "for i in range (N):\n",
    "    a, b = map(int, input().split())\n",
    "    num_array[a - 1], num_array[b - 1] = num_array[b - 1], num_array[a - 1]\n",
    "\n",
    "s = \"\"\n",
    "\n",
    "for i in num_array:\n",
    "    s += str(i) + \" \"\n",
    "\n",
    "print(s)"
   ]
  },
  {
   "cell_type": "code",
   "execution_count": null,
   "metadata": {},
   "outputs": [],
   "source": []
  }
 ],
 "metadata": {
  "kernelspec": {
   "display_name": "Python 3",
   "language": "python",
   "name": "python3"
  },
  "language_info": {
   "codemirror_mode": {
    "name": "ipython",
    "version": 3
   },
   "file_extension": ".py",
   "mimetype": "text/x-python",
   "name": "python",
   "nbconvert_exporter": "python",
   "pygments_lexer": "ipython3",
   "version": "3.11.9"
  }
 },
 "nbformat": 4,
 "nbformat_minor": 2
}
