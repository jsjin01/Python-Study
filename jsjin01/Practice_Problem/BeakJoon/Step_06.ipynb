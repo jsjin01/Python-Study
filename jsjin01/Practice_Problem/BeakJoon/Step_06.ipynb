{
 "cells": [
  {
   "cell_type": "code",
   "execution_count": 6,
   "metadata": {},
   "outputs": [
    {
     "name": "stdout",
     "output_type": "stream",
     "text": [
      "         ,r'\"7\n",
      "r`-_   ,'  ,/\n",
      " \\. \". L_r'\n",
      "   `~\\/\n",
      "      |\n",
      "      |\n"
     ]
    }
   ],
   "source": [
    "##Problem 01\n",
    "print(f\"         ,r'\\\"7\")\n",
    "print(f\"r`-_   ,'  ,/\")\n",
    "print(f\" \\. \\\". L_r'\")\n",
    "print(f\"   `~\\/\")\n",
    "print(f\"      |\")\n",
    "print(f\"      |\")"
   ]
  },
  {
   "cell_type": "code",
   "execution_count": 23,
   "metadata": {},
   "outputs": [
    {
     "ename": "IndexError",
     "evalue": "list index out of range",
     "output_type": "error",
     "traceback": [
      "\u001b[1;31m---------------------------------------------------------------------------\u001b[0m",
      "\u001b[1;31mIndexError\u001b[0m                                Traceback (most recent call last)",
      "Cell \u001b[1;32mIn[23], line 7\u001b[0m\n\u001b[0;32m      5\u001b[0m \u001b[38;5;66;03m#특정 자료형 List로 받기 위해서는 mapping 후 list화하는 작업 필요\u001b[39;00m\n\u001b[0;32m      6\u001b[0m \u001b[38;5;28;01mfor\u001b[39;00m n \u001b[38;5;129;01min\u001b[39;00m \u001b[38;5;28mrange\u001b[39m(\u001b[38;5;241m0\u001b[39m, \u001b[38;5;28mlen\u001b[39m(chess_max)):\n\u001b[1;32m----> 7\u001b[0m     chess_current[n] \u001b[38;5;241m=\u001b[39m chess_max[n] \u001b[38;5;241m-\u001b[39m \u001b[43mchess_current\u001b[49m\u001b[43m[\u001b[49m\u001b[43mn\u001b[49m\u001b[43m]\u001b[49m\n\u001b[0;32m      9\u001b[0m s \u001b[38;5;241m=\u001b[39m \u001b[38;5;124m\"\u001b[39m\u001b[38;5;124m\"\u001b[39m\n\u001b[0;32m     11\u001b[0m \u001b[38;5;28;01mfor\u001b[39;00m i \u001b[38;5;129;01min\u001b[39;00m chess_current:\n",
      "\u001b[1;31mIndexError\u001b[0m: list index out of range"
     ]
    }
   ],
   "source": [
    "##Problem 02\n",
    "chess_max = [1, 1, 2, 2, 2, 8]\n",
    "\n",
    "chess_current = list(map(int, input().split()))\n",
    "#특정 자료형 List로 받기 위해서는 mapping 후 list화하는 작업 필요\n",
    "for n in range(0, len(chess_max)):\n",
    "    chess_current[n] = chess_max[n] - chess_current[n]\n",
    "\n",
    "s = \"\"\n",
    "\n",
    "for i in chess_current:\n",
    "    s += str(i) + \" \"\n",
    "\n",
    "print(s)"
   ]
  },
  {
   "cell_type": "code",
   "execution_count": 25,
   "metadata": {},
   "outputs": [
    {
     "name": "stdout",
     "output_type": "stream",
     "text": [
      "         *\n",
      "        ***\n",
      "       *****\n",
      "      *******\n",
      "     *********\n",
      "    ***********\n",
      "   *************\n",
      "  ***************\n",
      " *****************\n",
      "*******************\n",
      " *****************\n",
      "  ***************\n",
      "   *************\n",
      "    ***********\n",
      "     *********\n",
      "      *******\n",
      "       *****\n",
      "        ***\n",
      "         *\n"
     ]
    }
   ],
   "source": [
    "##Problem 03\n",
    "star_number = int(input())\n",
    "\n",
    "jump_space = star_number\n",
    "n = 0\n",
    "\n",
    "for k in range(0,2*star_number-1):\n",
    "    if(k < star_number):\n",
    "        n = n + 1\n",
    "        jump_space = jump_space - 1\n",
    "    else:\n",
    "        n = n - 1\n",
    "        jump_space = jump_space + 1\n",
    "    print(\" \" * jump_space + \"*\"*(2*n -1))\n",
    "\n"
   ]
  },
  {
   "cell_type": "code",
   "execution_count": 30,
   "metadata": {},
   "outputs": [
    {
     "name": "stdout",
     "output_type": "stream",
     "text": [
      "0\n"
     ]
    }
   ],
   "source": [
    "## Problem 04\n",
    "word = input()\n",
    "palindrom = 1\n",
    "\n",
    "for i in range(0,len(word)):\n",
    "    if(not word[i] == word[len(word)-1-i]):\n",
    "        palindrom =0\n",
    "        break\n",
    "\n",
    "print(palindrom)\n"
   ]
  },
  {
   "cell_type": "code",
   "execution_count": 33,
   "metadata": {},
   "outputs": [
    {
     "name": "stdout",
     "output_type": "stream",
     "text": [
      "Z\n"
     ]
    }
   ],
   "source": [
    "## Problem 05\n",
    "\n",
    "text = input()\n",
    "text = text.upper() ## 대문자로 변환\n",
    "\n",
    "select_alphabet = \"\"\n",
    "\n",
    "# 딕셔너리에 추가 => 딕셔너리에 변수를 넣고 추가하는 것 가능\n",
    "alphabet_Dict = {}\n",
    "\n",
    "for char in text:\n",
    "    if char in alphabet_Dict:\n",
    "        alphabet_Dict[char] += 1\n",
    "    else:\n",
    "         alphabet_Dict[char] = 1\n",
    "\n",
    "max_count = max(alphabet_Dict.values())\n",
    "\n",
    "#리스트 컴프리헨션 문법\n",
    "# =>  k for (k,v) in alphabet_Dict.items() => 모든 딕셔너리를 받아옴\n",
    "#        if v == max_count                 => value가 max_count인 key만 저장\n",
    "max_char = [k for k, v in alphabet_Dict.items() if v == max_count]\n",
    "\n",
    "if(len(max_char) > 1):\n",
    "    print(\"?\")\n",
    "else:\n",
    "    print(max_char[0])\n",
    "\n"
   ]
  },
  {
   "cell_type": "code",
   "execution_count": null,
   "metadata": {},
   "outputs": [
    {
     "name": "stdout",
     "output_type": "stream",
     "text": [
      "6\n"
     ]
    }
   ],
   "source": [
    "## Problem 06\n",
    "s = input()\n",
    "croatia_alphabet = [\"c=\", \"c-\", \"dz=\", \"d-\", \"lj\", \"nj\", \"s=\", \"z=\"]\n",
    "\n",
    "# 핵심은 크로아티아 알파벳을 1글자로 인식하는 것\n",
    "# 처음에 코딩했을 때는 크로아티아 알파벳을 제거하면서 숫자를 세고 이후\n",
    "# 남은 문자를 세서 중복 제거에서 문제가 생겼었음음\n",
    "for word in croatia_alphabet:\n",
    "    s = s.replace(word, \"*\")  # 크로아티아 알파벳을 1글자 처리\n",
    "\n",
    "print(len(s))  # 최종 글자 수 출력\n",
    "\n"
   ]
  },
  {
   "cell_type": "code",
   "execution_count": null,
   "metadata": {},
   "outputs": [
    {
     "name": "stdout",
     "output_type": "stream",
     "text": [
      "0\n"
     ]
    }
   ],
   "source": [
    "## Problem 07\n",
    "#초기화 문제 및 인덱스 저자자\n",
    "word_num = int(input())\n",
    "word_list = [\"\"] * word_num\n",
    "word_count = 0\n",
    "\n",
    "for n in range (word_num):\n",
    "    word_list[n] = input()\n",
    "\n",
    "for word in word_list:\n",
    "    word_pos = {}\n",
    "    word_true =True\n",
    "    for word_index in range(len(word)):\n",
    "        if word[word_index] in word_pos:\n",
    "            if word_pos[word[word_index]] + 1 == word_index :\n",
    "                word_pos[word[word_index]] = word_index\n",
    "            else :\n",
    "                word_true =False\n",
    "                break\n",
    "        else:\n",
    "            word_pos[word[word_index]] = word_index\n",
    "\n",
    "    if word_true:\n",
    "        word_count +=1\n",
    "    \n",
    "\n",
    "print(word_count)"
   ]
  },
  {
   "cell_type": "code",
   "execution_count": null,
   "metadata": {},
   "outputs": [],
   "source": [
    "## Problem 08\n",
    "import sys\n",
    "\n",
    "subjects = sys.stdin.read().splitlines()"
   ]
  }
 ],
 "metadata": {
  "kernelspec": {
   "display_name": "Python 3",
   "language": "python",
   "name": "python3"
  },
  "language_info": {
   "codemirror_mode": {
    "name": "ipython",
    "version": 3
   },
   "file_extension": ".py",
   "mimetype": "text/x-python",
   "name": "python",
   "nbconvert_exporter": "python",
   "pygments_lexer": "ipython3",
   "version": "3.12.9"
  }
 },
 "nbformat": 4,
 "nbformat_minor": 2
}
