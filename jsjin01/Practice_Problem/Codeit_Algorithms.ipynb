{
 "cells": [
  {
   "cell_type": "markdown",
   "metadata": {},
   "source": [
    "해당하는 알고리즘을 설계하시오"
   ]
  },
  {
   "cell_type": "code",
   "execution_count": 4,
   "metadata": {},
   "outputs": [
    {
     "name": "stdout",
     "output_type": "stream",
     "text": [
      "0\n",
      "None\n",
      "2\n",
      "1\n",
      "4\n"
     ]
    }
   ],
   "source": [
    "# 선형 탐색 알고리즘\n",
    "def linear_search(target, data):\n",
    "    for s in data:\n",
    "        if(target == s):\n",
    "            return list(data).index(s)\n",
    "    \n",
    "    return None\n",
    "\n",
    "# 테스트 코드\n",
    "print(linear_search(2, [2, 3, 5, 7, 11]))\n",
    "print(linear_search(0, [2, 3, 5, 7, 11]))\n",
    "print(linear_search(5, [2, 3, 5, 7, 11]))\n",
    "print(linear_search(3, [2, 3, 5, 7, 11]))\n",
    "print(linear_search(11, [2, 3, 5, 7, 11]))"
   ]
  },
  {
   "cell_type": "code",
   "execution_count": 8,
   "metadata": {},
   "outputs": [
    {
     "name": "stdout",
     "output_type": "stream",
     "text": [
      "0\n",
      "None\n",
      "2\n",
      "1\n",
      "4\n"
     ]
    }
   ],
   "source": [
    "# 이진 탐색 알고리즘\n",
    "def binary_search(target, data):\n",
    "    n = len(data)\n",
    "    left = 0\n",
    "    right = n - 1\n",
    "    while left <= right :\n",
    "        mid = (right + left) // 2\n",
    "        if(target == data[mid]):\n",
    "            return mid\n",
    "        elif(target < data[mid]):\n",
    "            right = mid - 1\n",
    "        elif(target > data[mid]):\n",
    "            left = mid + 1\n",
    "\n",
    "    return None\n",
    "# 테스트 코드\n",
    "print(binary_search(2, [2, 3, 5, 7, 11]))\n",
    "print(binary_search(0, [2, 3, 5, 7, 11]))\n",
    "print(binary_search(5, [2, 3, 5, 7, 11]))\n",
    "print(binary_search(3, [2, 3, 5, 7, 11]))\n",
    "print(binary_search(11, [2, 3, 5, 7, 11]))"
   ]
  },
  {
   "cell_type": "code",
   "execution_count": 78,
   "metadata": {},
   "outputs": [
    {
     "name": "stdout",
     "output_type": "stream",
     "text": [
      "[1, 2, 3, 4, 8, 9, 1]\n",
      "[1, 2, 2, 5, 10, 16, 2]\n",
      "[2, 4, 6, 8, 10, 1]\n",
      "[1, 2, 3, 5]\n"
     ]
    }
   ],
   "source": [
    "##선택 정렬\n",
    "def selection_sort(data):\n",
    "    max_n = len(data)\n",
    "    for i in range (max_n):\n",
    "        min_index = i #인덱스임을 주의! => 첫번째 인덱스를 넣으면 됨\n",
    "        for check_index in range (i, max_n - 1): #-1를 안해주면 min_index = 0 이므로 가장 작은 숫자랑 가장 큰 숫자랑 자리가 바뀜\n",
    "            if(data[check_index] <= data[min_index]):\n",
    "                min_index = check_index\n",
    "        \n",
    "        data[i], data[min_index] = data[min_index], data[i]\n",
    "\n",
    "\n",
    "# 테스트 코드\n",
    "list_1 = [9, 4, 2, 3, 1, 8, 1]\n",
    "list_2 = [1, 2, 5, 2, 10, 16, 2]\n",
    "list_3 = [10, 8, 6, 4, 2, 1]\n",
    "list_4 = [2, 1, 3, 5]\n",
    "\n",
    "selection_sort(list_1)\n",
    "selection_sort(list_2)\n",
    "selection_sort(list_3)\n",
    "selection_sort(list_4)\n",
    "\n",
    "print(list_1)\n",
    "print(list_2)\n",
    "print(list_3)\n",
    "print(list_4)"
   ]
  },
  {
   "cell_type": "code",
   "execution_count": 17,
   "metadata": {},
   "outputs": [
    {
     "name": "stdout",
     "output_type": "stream",
     "text": [
      "[1, 1, 2, 3, 4, 8, 9]\n",
      "[1, 2, 2, 2, 5, 10, 16]\n",
      "[1, 2, 4, 6, 8, 10]\n"
     ]
    }
   ],
   "source": [
    "#삽입정렬 => 다시 풀어보기\n",
    "def insertion_sort(data):\n",
    "    max_n = len(data)\n",
    "    for i in range (1, max_n):\n",
    "        key_value = data[i] #인덱스 i 값을 저장해야지 변하지 않음\n",
    "        check_index = i - 1\n",
    "        while check_index >= 0 and key_value < data[check_index] :\n",
    "            data[check_index + 1] = data[check_index]   #check_index 한칸 밀기\n",
    "            check_index -= 1\n",
    "        data[check_index + 1]  = key_value\n",
    "\n",
    "            \n",
    "    \n",
    "\n",
    "# 테스트 코드\n",
    "list_1 = [9, 4, 2, 3, 1, 8, 1]\n",
    "list_2 = [1, 2, 5, 2, 10, 16, 2]\n",
    "list_3 = [10, 8, 6, 4, 2, 1]\n",
    "\n",
    "insertion_sort(list_1)\n",
    "insertion_sort(list_2)\n",
    "insertion_sort(list_3)\n",
    "\n",
    "print(list_1)\n",
    "print(list_2)\n",
    "print(list_3)"
   ]
  }
 ],
 "metadata": {
  "kernelspec": {
   "display_name": "Python 3",
   "language": "python",
   "name": "python3"
  },
  "language_info": {
   "codemirror_mode": {
    "name": "ipython",
    "version": 3
   },
   "file_extension": ".py",
   "mimetype": "text/x-python",
   "name": "python",
   "nbconvert_exporter": "python",
   "pygments_lexer": "ipython3",
   "version": "3.11.9"
  }
 },
 "nbformat": 4,
 "nbformat_minor": 2
}
