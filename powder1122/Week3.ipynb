{
 "cells": [
  {
   "cell_type": "markdown",
   "metadata": {},
   "source": [
    "모듈\n",
    "파이썬 소스코드 파일을 모듈이라고 함\n",
    "csv.py라는 파일이 있으면 csv 모듈이라고 함\n",
    "다른 언어에서 라이브러리라 부르는 것\n",
    "\n",
    "모듈은 파이썬 코드의 재사용성을 높이기 위해 사용되는 코드의 묶음으로 여러 함수, 변수, 클래스 등을 포함할 수 있는 .py 파일이다.\n",
    "\n",
    "장점\n",
    "1. 재사용성: 동일한 코드를 여러 번 작성하지 않고 필요할 때마다 불러와 사용할 수 있다.\n",
    "2. 구조화: 코드를 기능별로 분리하여 더 깔끔하고 관리하기 쉬운 구조를 만들 수 있다.\n",
    "3. 공유: 다른 프로젝트에서도 동일한 모듈을 사용하여 일관성을 유지할 수 있다.\n",
    "\n",
    "import를 사용하여 사용. 확장자명은 사용하지 않는다.\n",
    "4가지 방식이 존재\n",
    "1. import mymod #일반적으로 권장되는 방식식\n",
    "2. from mymod import hap    #모듈 이름 없이 mymod의 함수 사용 가능\n",
    "3. from mymod import*   #모듈 이름 없이 mymod의 함수 사용 가능\n",
    "4. import mymod as mm  #mymod의 이름을 mm으로 수정하여 import\n",
    "\n",
    "2,3번 방식을 사용 시 같은 이름의 함수가 존재할 경우 충돌이 발생할 수 있다.\n"
   ]
  },
  {
   "cell_type": "code",
   "execution_count": 2,
   "metadata": {},
   "outputs": [
    {
     "name": "stdout",
     "output_type": "stream",
     "text": [
      "10\n"
     ]
    },
    {
     "data": {
      "text/plain": [
       "7"
      ]
     },
     "execution_count": 2,
     "metadata": {},
     "output_type": "execute_result"
    }
   ],
   "source": [
    "import mymod\n",
    "print(mymod.var)\n",
    "\n",
    "mymod.hap(3,4)\n"
   ]
  },
  {
   "cell_type": "code",
   "execution_count": 4,
   "metadata": {},
   "outputs": [
    {
     "name": "stdout",
     "output_type": "stream",
     "text": [
      "10\n"
     ]
    },
    {
     "data": {
      "text/plain": [
       "3"
      ]
     },
     "execution_count": 4,
     "metadata": {},
     "output_type": "execute_result"
    }
   ],
   "source": [
    "import mymod as mm\n",
    "print(mm.var)\n",
    "\n",
    "mm.hap(1,2)"
   ]
  },
  {
   "cell_type": "code",
   "execution_count": 5,
   "metadata": {},
   "outputs": [
    {
     "name": "stdout",
     "output_type": "stream",
     "text": [
      "10\n"
     ]
    },
    {
     "data": {
      "text/plain": [
       "7"
      ]
     },
     "execution_count": 5,
     "metadata": {},
     "output_type": "execute_result"
    }
   ],
   "source": [
    "from mymod import*  #from mymod import hap 사용 시 hap만 사용 가능\n",
    "print(var)\n",
    "\n",
    "hap(3,4)"
   ]
  },
  {
   "cell_type": "markdown",
   "metadata": {},
   "source": [
    "파일\n",
    "\n",
    "파이썬에서 파일은 데이터를 영구적으로 저장하거나 읽어오기 위한 기본 단위이다. 일반적으로 텍스트 파일이나 바이너리 파일 형식으로 데이터를 다룬다.\n",
    "\n",
    "종류\n",
    "\n",
    "텍스트 파일: 사람이 읽을 수 있는 텍스트 형식으로 데이터를 저장. .txt, .csv 등의 파일\n",
    "\n",
    "바이너리 파일: 컴퓨터가 이해할 수 있는 이진 데이터 형식으로 저장. 이미지 파일, 오디오 파일 등이 있다.\n",
    "\n",
    "파일 작업\n",
    "\n",
    "open 함수를 사용하여 파일을 열고 읽기, 쓰기 등의 작업을 수행할 수 있다.\n",
    "\n",
    "파일 쓰기: 데이터를 파일에 작성하는 작업. w 모드를 사용하여 파일을 열고 데이터를 작성할 수 있다.\n",
    "파일 읽기: 파일에 저장된 데이터를 읽어오는 작업이다. r 모드를 사용하여 파일을 열고 데이터를 읽을 수 있다.\n",
    "\n",
    "with open으로 open함수 사용\n",
    "with문을 사용하면 파일을 자동으로 닫아주기 때문에 안전하다.\n",
    "\n",
    "r: 읽기 모드(기본값). 파일이 존재하지 않으면 오류 발생\n",
    "w: 쓰기 모드. 파일이 존재하면 내용을 덮어쓴다. 없으면 새로 만든다.\n",
    "a: 추가 모드. 파일이 존재하면 파일 끝에 데이터를 추가한다. 없으면 새로 만든다.\n",
    "b: 바이너리 모드. (ex: rb는 바이너리 읽기 모드)\n",
    "t: 텍스트 모드.(ex: rt는 텍스트 읽기 모드)\n",
    "\n",
    "+줄을 읽을 때 두 번째 줄만 읽으려면 \n",
    "with open(\"example.txt\", \"r\") as file:\n",
    "    file.readline()  # 첫 번째 줄을 읽고 무시.\n",
    "    second_line = file.readline()  # 두 번째 줄을 읽기.\n",
    "    print(second_line.strip())  # 두 번째 줄 출력 (개행 문자 제거)\n",
    "이런 방법을 사용한다.\n"
   ]
  },
  {
   "cell_type": "code",
   "execution_count": 10,
   "metadata": {},
   "outputs": [
    {
     "name": "stdout",
     "output_type": "stream",
     "text": [
      "한 번에 읽기\n",
      "This is an example file.\n",
      "Here is another line.\n",
      "\n",
      "한 줄씩씩 읽기\n",
      "This is an example file.\n",
      "Here is another line.\n",
      "각 줄을 리스트로 읽기\n",
      "T\n",
      "h\n",
      "i\n",
      "s\n",
      "\n",
      "i\n",
      "s\n",
      "\n",
      "a\n",
      "n\n",
      "\n",
      "e\n",
      "x\n",
      "a\n",
      "m\n",
      "p\n",
      "l\n",
      "e\n",
      "\n",
      "f\n",
      "i\n",
      "l\n",
      "e\n",
      ".\n",
      "\n",
      "추가된 데이터 읽기\n",
      "This is an example file.\n",
      "Here is another line.\n",
      "This is third line.\n",
      "\n",
      "바이너리 읽기\n",
      "b'ABCD'\n"
     ]
    }
   ],
   "source": [
    "#파일 생성\n",
    "with open(\"example.txt\", \"w\") as file:\n",
    "    file.write(\"This is an example file.\\n\")\n",
    "    file.write(\"Here is another line.\\n\")\n",
    "\n",
    "#전체 파일 읽기. 파일의 모든 내용을 한 번에 읽는 예제. 파일 크기가 작을 때 유용.\n",
    "with open(\"example.txt\", \"r\") as file:\n",
    "    context = file.read()\n",
    "    print(\"한 번에 읽기\")\n",
    "    print(context)\n",
    "\n",
    "#한 줄씩 읽기. 각 줄을 순차적으로 처리하여 메모리 절약.\n",
    "with open(\"example.txt\", \"r\") as file:\n",
    "    print(\"한 줄씩 읽기\")\n",
    "    for line in file:\n",
    "        print(line.strip()) #줄 끝의 개행 문자를 제거하고 출력\n",
    "\n",
    "#모든 줄을 리스트로 읽기. 각 줄을 리스트로 읽어온다.\n",
    "with open(\"example.txt\", \"r\") as file:\n",
    "    print(\"각 줄을 리스트로 읽기\")\n",
    "    lines = file.readline() #첫 번째 줄만 읽어오기.\n",
    "    for line in lines:\n",
    "        print(line.strip())\n",
    "\n",
    "#파일 끝에 데이터 추가하기\n",
    "with open(\"example.txt\", \"a\") as file:\n",
    "    file.write(\"This is third line.\\n\")\n",
    "#추가된 데이터 읽기   \n",
    "with open(\"example.txt\", \"r\") as file:\n",
    "    print(\"추가된 데이터 읽기\")\n",
    "    context = file.read()\n",
    "    print(context)\n",
    "\n",
    "#바이너리 파일 쓰기\n",
    "binary_data = bytearray([0x41, 0x42, 0x43 ,0x44]) #A, B, C, D의 아스키 코드\n",
    "with open(\"example.bin\",\"wb\") as file:\n",
    "    file.write(binary_data)\n",
    "\n",
    "#바이너리 읽기\n",
    "with open(\"example.bin\", \"rb\") as file:\n",
    "    binary_content = file.read()\n",
    "    print(\"바이너리 읽기\")\n",
    "    print(binary_content)  \n",
    "    \n",
    "#b'ABCD' 출력. b는 바이너리(바이트) 데이터임을 나타냄.\n",
    "#데이터는 아스키 코드 값ㅇ즈로 변환되어 저장되고, 읽을 때 다시 문자열로 변환되어 표시된다.\n"
   ]
  },
  {
   "cell_type": "code",
   "execution_count": null,
   "metadata": {},
   "outputs": [],
   "source": []
  }
 ],
 "metadata": {
  "kernelspec": {
   "display_name": "Python 3",
   "language": "python",
   "name": "python3"
  },
  "language_info": {
   "codemirror_mode": {
    "name": "ipython",
    "version": 3
   },
   "file_extension": ".py",
   "mimetype": "text/x-python",
   "name": "python",
   "nbconvert_exporter": "python",
   "pygments_lexer": "ipython3",
   "version": "3.11.9"
  }
 },
 "nbformat": 4,
 "nbformat_minor": 2
}
