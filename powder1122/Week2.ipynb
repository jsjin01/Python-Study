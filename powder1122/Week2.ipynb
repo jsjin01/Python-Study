{
 "cells": [
  {
   "cell_type": "markdown",
   "metadata": {},
   "source": [
    "제어문 - if문(조건문)\n",
    "\n",
    "조건에 맞으면 실행.\n",
    "조건에 참이 되는 자료형을 사용할 수도 있음.\n",
    "불 자료형으로 참 거짓을 판별하여 참이면 실행하는 구조\n",
    "\n",
    "and, or, not\n",
    "if False | True:   //둘 중 하나라도 참이 있으면 참. 둘 다 거짓이면 거짓\n",
    "if False or True:   //같은 뜻\n",
    "\n",
    "if False and True:  // 둘 다 참이어야 참\n",
    "if False & True:\n",
    "\n",
    "if not True:    //참 거짓을 뒤바꾸는 역할\n",
    "\n",
    "리스트 조건\n",
    "if 1 in [1,2,3]:    //1이 리스트 안에 존재하면 참\n",
    "\n",
    "별 다른 일을 시키지 않을 때는 실행부에 pass 사용\n",
    "\n",
    "여러 조건 사용 시 \n",
    "if():\n",
    "elif():\n",
    "elif():\n",
    "else:\n",
    "이런 식으로 사용\n",
    "\n",
    "if문 한 줄로 줄여쓰기\n",
    "message = \"Success\" if score >= 60 else \"aa\""
   ]
  },
  {
   "cell_type": "code",
   "execution_count": 4,
   "metadata": {},
   "outputs": [
    {
     "name": "stdout",
     "output_type": "stream",
     "text": [
      "택시 타고 가기\n",
      "조건은 거짓\n"
     ]
    }
   ],
   "source": [
    "money = True\n",
    "if money:\n",
    "    print(\"택시 타고 가기\")\n",
    "else:\n",
    "    pass\n",
    "\n",
    "a = 1\n",
    "b = 2\n",
    "if b<a:\n",
    "    print(\"b\")\n",
    "else:\n",
    "    print(\"조건은 거짓\")\n",
    "\n",
    "score = 70\n",
    "message = \"Success\" if score >= 60 else \"aa\"\n"
   ]
  },
  {
   "cell_type": "markdown",
   "metadata": {},
   "source": [
    "제어문 - while문(반복문)\n",
    "\n",
    "횟수를 반복하여 실행\n",
    "while <조건문>:\n",
    "    <실행문1>\n",
    "    <실행문2>\n",
    "\n",
    "파이썬에는 a++ 불가능\n",
    "while문은 신중히 사용. 무한 루프 조심\n",
    "\n",
    "break, continue\n",
    "반복문 탈출, 반복문 뒷부분 스킵"
   ]
  },
  {
   "cell_type": "code",
   "execution_count": 7,
   "metadata": {},
   "outputs": [
    {
     "name": "stdout",
     "output_type": "stream",
     "text": [
      "나무를 1번 찍었습니다.\n",
      "나무를 2번 찍었습니다.\n",
      "나무를 3번 찍었습니다.\n",
      "나무를 4번 찍었습니다.\n",
      "나무를 5번 찍었습니다.\n",
      "나무를 6번 찍었습니다.\n",
      "나무를 7번 찍었습니다.\n",
      "나무를 8번 찍었습니다.\n",
      "나무를 9번 찍었습니다.\n",
      "나무를 10번 찍었습니다.\n",
      "나무 넘어갑니다.\n",
      "남은 커피의 양은 9개입니다.\n",
      "남은 커피의 양은 8개입니다.\n",
      "남은 커피의 양은 7개입니다.\n",
      "남은 커피의 양은 6개입니다.\n",
      "남은 커피의 양은 5개입니다.\n",
      "남은 커피의 양은 4개입니다.\n",
      "남은 커피의 양은 3개입니다.\n",
      "남은 커피의 양은 2개입니다.\n",
      "남은 커피의 양은 1개입니다.\n",
      "남은 커피의 양은 0개입니다.\n",
      "커피가 다 떨어졌습니다.\n"
     ]
    }
   ],
   "source": [
    "treeHit = 0\n",
    "while treeHit < 10:\n",
    "    treeHit = treeHit +1\n",
    "    print(\"나무를 %d번 찍었습니다.\" %treeHit)\n",
    "    if treeHit == 10:\n",
    "        print(\"나무 넘어갑니다.\")\n",
    "\n",
    "coffee = 10\n",
    "money =  300\n",
    "while money:\n",
    "    coffee = coffee -1\n",
    "    print(\"남은 커피의 양은 %d개입니다.\"%coffee)\n",
    "    if not coffee:\n",
    "        print(\"커피가 다 떨어졌습니다.\")\n",
    "        break\n",
    "\n",
    "\n"
   ]
  },
  {
   "cell_type": "markdown",
   "metadata": {},
   "source": [
    "제어문 - for문(반복문)\n",
    "\n",
    "구조조\n",
    "for 변수 in 리스트(또는 튜플, 문자열):\n",
    "    수행할 문장1\n",
    "    수행할 문장2\n",
    "    ...\n",
    "\n",
    "for문에도 continue 사용 가능\n",
    "\n",
    "인덱스 번호를 돌 때 for i in range(1,11): 사용. 1이상 11 미만의 리스트\n"
   ]
  },
  {
   "cell_type": "code",
   "execution_count": 15,
   "metadata": {},
   "outputs": [
    {
     "name": "stdout",
     "output_type": "stream",
     "text": [
      "for문 예시1\n",
      "one\n",
      "two\n",
      "tree\n",
      "for문 예시2\n",
      "1\n",
      "2\n",
      "3\n",
      "4\n",
      "5\n",
      "6\n",
      "for문 예시3\n",
      "1\n",
      "2\n",
      "3\n",
      "4\n",
      "5\n",
      "6\n",
      "7\n",
      "8\n",
      "9\n",
      "10\n",
      "for문 예시4\n",
      "2 4 6 8 10 12 14 16 18 \n",
      "3 6 9 12 15 18 21 24 27 \n",
      "4 8 12 16 20 24 28 32 36 \n",
      "5 10 15 20 25 30 35 40 45 \n",
      "6 12 18 24 30 36 42 48 54 \n",
      "7 14 21 28 35 42 49 56 63 \n",
      "8 16 24 32 40 48 56 64 72 \n",
      "9 18 27 36 45 54 63 72 81 \n",
      "for문 예시5\n",
      "[6, 12]\n",
      "[2, 4, 6, 8, 10, 12, 14, 16, 18, 3, 6, 9, 12, 15, 18, 21, 24, 27, 4, 8, 12, 16, 20, 24, 28, 32, 36, 5, 10, 15, 20, 25, 30, 35, 40, 45, 6, 12, 18, 24, 30, 36, 42, 48, 54, 7, 14, 21, 28, 35, 42, 49, 56, 63, 8, 16, 24, 32, 40, 48, 56, 64, 72, 9, 18, 27, 36, 45, 54, 63, 72, 81]\n"
     ]
    }
   ],
   "source": [
    "print(\"for문 예시1\")\n",
    "test_list = ['one', 'two', 'tree']\n",
    "for i in test_list:\n",
    "    print(i)\n",
    "\n",
    "print(\"for문 예시2\")\n",
    "a = [(1,2),(3,4),(5,6)]\n",
    "for (first, last) in a:\n",
    "    print(first)\n",
    "    print(last)\n",
    "\n",
    "print(\"for문 예시3\")\n",
    "sum = 0\n",
    "for i in range(1,11):\n",
    "    sum = sum+1\n",
    "    print(sum)\n",
    "\n",
    "print(\"for문 예시4\")\n",
    "for i in range(2,10):\n",
    "    for j in range(1,10):\n",
    "        print(i*j, end=\" \")     #end=\" \"의 의미는 한 줄씩 띄지 않고 이어져 나오게 하는 용도.\n",
    "    print('')   #구구단의 각 단이 끝날 때 줄바꿈\n",
    "\n",
    "print(\"for문 예시5\")\n",
    "a = [1,2,3,4,5]\n",
    "result = [num*3 for num in a if num%2 ==0] #num이 a 안에 있는 동안 짝수인 num값 *3을 저장\n",
    "print(result)\n",
    "#result = []\n",
    "#for num in a:\n",
    "#   if num%2 ==0:\n",
    "#       result.append(num*3)\n",
    "#이중 for문 형식으로 구구단 만들기\n",
    "result2 = [x*y for x in range(2,10) for y in range(1,10)]\n",
    "print(result2)\n",
    "#result2 = []\n",
    "#for x in range(2,10):\n",
    "#   for y in range(1,10):\n",
    "#       result2.append(x*y)"
   ]
  },
  {
   "cell_type": "code",
   "execution_count": null,
   "metadata": {},
   "outputs": [],
   "source": []
  }
 ],
 "metadata": {
  "kernelspec": {
   "display_name": "Python 3",
   "language": "python",
   "name": "python3"
  },
  "language_info": {
   "codemirror_mode": {
    "name": "ipython",
    "version": 3
   },
   "file_extension": ".py",
   "mimetype": "text/x-python",
   "name": "python",
   "nbconvert_exporter": "python",
   "pygments_lexer": "ipython3",
   "version": "3.11.9"
  }
 },
 "nbformat": 4,
 "nbformat_minor": 2
}
