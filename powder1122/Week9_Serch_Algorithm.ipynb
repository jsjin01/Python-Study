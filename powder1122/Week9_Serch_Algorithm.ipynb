{
 "cells": [
  {
   "cell_type": "markdown",
   "metadata": {},
   "source": [
    "# 탐색 알고리즘\n",
    "\n",
    "* 특정 데이터나 트리를 찾기 위해 데이터 구조를 검색하는 방법.\n",
    "\n",
    "* 대표적인 탐색 알고리즘으로는 선형 탐색, 이진 탐색, 빈 트리 탐색, 깊이 우선 탐색 등이 있다.\n",
    "\n"
   ]
  },
  {
   "cell_type": "markdown",
   "metadata": {},
   "source": [
    "# 선형 탐색 알고리즘\n",
    "\n",
    "* 리스트나 배열에서 특정 요소를 찾기 위해 각 요소를 차례대로 검색하는 방법이다.\n",
    "* 간단하고 구현이 쉽지만, 리스트가 길어질수록 실행 시간이 오래 걸릴 수 있다.\n",
    "* 시간 복잡도는 O(n)\n",
    "\n",
    "* 작동 방법\n",
    "    1. 리스트의 첫 번째 요소부터 시작한다.\n",
    "    2. 각 요소를 검사하여 찾고자 하는 값과 비교한다.\n",
    "    3. 값이 일치할 때까지 리스트를 한 요소씩 앞으로 이동한다.\n",
    "    4. 값이 발견되면 해당 요소의 인덱스를 반환한다.\n",
    "    5. 값이 리스트의 끝까지 발견되지 않으면 -1을 반환한다.\n",
    "    "
   ]
  },
  {
   "cell_type": "code",
   "execution_count": null,
   "metadata": {},
   "outputs": [],
   "source": [
    "# 선형 탐색 알고리즘\n",
    "def linear_search(arr, target):     #검색할 정렬된 리스트 arr, 찾는 값 target 매개변수\n",
    "    for i in range(len(arr)):       #리스트의 각 요소 순회\n",
    "        if arr[i] == target:        #현재 요소와 target 비교\n",
    "            return i                #같으면 1 리턴\n",
    "    return -1                       #리스트 내에 없으면 -1 리턴\n",
    "\n",
    "# 예시 사용\n",
    "arr = [5, 8, 2, 9, 3, 6]\n",
    "target = 9\n",
    "result = linear_search(arr, target)\n",
    "print(\"Element found at index:\", result)\n"
   ]
  },
  {
   "cell_type": "markdown",
   "metadata": {},
   "source": [
    "# 이진 탐색 알고리즘\n",
    "\n",
    "* 정렬된 리스트에서 특정 값을 찾기 위해 리스트를 반으로 나누어 검색하는 방법이다. 이 알고리즘은 선형 탐색보다 훨씬 빠르며, 시간 복잡도는 O(log n)이다.\n",
    "\n",
    "* 작동 방법\n",
    "    1. 리스트의 첫 번째와 마지막 인덱스를 설정한다.\n",
    "    2. 중간 인덱스를 계산한다.\n",
    "    3. 중간 인덱스의 값이 찾고자 하는 값과 같은지 비교한다.\n",
    "    4. 값이 같으면 중간 인덱스를 반환한다.\n",
    "    5. 값이 작은 경우, 중간 인덱스보다 작은 부분을 검색한다.\n",
    "    6. 값이 큰 경우, 중간 인덱스보다 큰 부분을 검색한다.\n",
    "    7. 2~6단계를 반복하여 값을 찾는다.\n",
    "    "
   ]
  },
  {
   "cell_type": "code",
   "execution_count": 1,
   "metadata": {},
   "outputs": [
    {
     "name": "stdout",
     "output_type": "stream",
     "text": [
      "Element found at index: 3\n"
     ]
    }
   ],
   "source": [
    "# 이진 탐색 알고리즘\n",
    "def binary_search(arr, target):     #검색할 정렬된 리스트 arr, 찾는 값 target\n",
    "    left, right = 0, len(arr) - 1   #리스트의 처음과 마지막 인덱스를 나타낸다.\n",
    "    while left <= right:            #left와 right 사이의 값을 반복적으로 검색한다.\n",
    "        mid = (left + right) // 2   #중간 인덱스 mid\n",
    "        if arr[mid] == target:      #찾는 값이 mid인 경우\n",
    "            return mid\n",
    "        elif arr[mid] < target:     #찾는 값이 mid보다 클 경우\n",
    "            left = mid + 1          #left를 mid보다 큰 리스트의 첫 번째 요소로 설정\n",
    "        else:\n",
    "            right = mid - 1         #right를 mid보다 작은 리스트의 마지막 요소로 설정\n",
    "    return -1\n",
    "\n",
    "# 예시 사용\n",
    "arr = [2, 3, 4, 10, 40]\n",
    "target = 10\n",
    "result = binary_search(arr, target)\n",
    "print(\"Element found at index:\", result)\n"
   ]
  }
 ],
 "metadata": {
  "kernelspec": {
   "display_name": "Python 3",
   "language": "python",
   "name": "python3"
  },
  "language_info": {
   "codemirror_mode": {
    "name": "ipython",
    "version": 3
   },
   "file_extension": ".py",
   "mimetype": "text/x-python",
   "name": "python",
   "nbconvert_exporter": "python",
   "pygments_lexer": "ipython3",
   "version": "3.11.9"
  }
 },
 "nbformat": 4,
 "nbformat_minor": 2
}
