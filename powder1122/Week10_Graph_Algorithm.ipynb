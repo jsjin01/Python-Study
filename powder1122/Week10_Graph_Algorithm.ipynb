{
 "cells": [
  {
   "cell_type": "markdown",
   "metadata": {},
   "source": [
    "# 그래프 알고리즘\n",
    "\n",
    "* 그래프는 정점(노드)과 간선(엣지)으로 구성된 데이터 구조이다. 대표적인 예로 깊이 우선 탐색(DFS, Depth-First Search)과 너비 우선 탐색(BFS, Breadth-First Search)이 있다.\n",
    "\n",
    "# 깊이 우선 탐색(DFS)\n",
    "\n",
    " * DFS는 가능한 깊이까지 탐색을 계속한 후, 더 이상 깊이 갈 수 없으면 돌아와서 다른 경로를 탐색하는 방법이다. 주로 스택(재귀 사용)으로 구현된다. 트리 구조의 탐색과 매우 유사하다. \n",
    "\n",
    " * 동작 원리\n",
    "    1. 시작 정점을 방문하고, 이를 방문했다고 표시한다.\n",
    "    2. 현재 정점에 인접한 정점들을 순서대로 탐색한다.\n",
    "    3. 인접한 정점 중 방문하지 않은 정점이 있으면, 해당 정점으로 이동하여 다시 1번부터 과정을 반복한다.\n",
    "    4. 더 이상 방문할 정점이 없으면, 이전 정점으로 돌아와 다른 경로를 탐색한다."
   ]
  },
  {
   "cell_type": "code",
   "execution_count": 1,
   "metadata": {},
   "outputs": [
    {
     "name": "stdout",
     "output_type": "stream",
     "text": [
      "A C F E B D "
     ]
    },
    {
     "data": {
      "text/plain": [
       "{'A', 'B', 'C', 'D', 'E', 'F'}"
      ]
     },
     "execution_count": 1,
     "metadata": {},
     "output_type": "execute_result"
    }
   ],
   "source": [
    "#깊이 우선 탐색. 스택 사용\n",
    "def dfs_iterative(graph, start):\n",
    "    visited = set()\n",
    "    stack = [start]\n",
    "    \n",
    "    while stack:\n",
    "        vertex = stack.pop()\n",
    "        if vertex not in visited:\n",
    "            visited.add(vertex)\n",
    "            print(vertex, end=' ')\n",
    "            stack.extend(graph[vertex] - visited)\n",
    "    return visited\n",
    "\n",
    "graph = {\n",
    "    'A': {'B', 'C'},\n",
    "    'B': {'A', 'D', 'E'},\n",
    "    'C': {'A', 'F'},\n",
    "    'D': {'B'},\n",
    "    'E': {'B', 'F'},\n",
    "    'F': {'C', 'E'}\n",
    "}\n",
    "\n",
    "dfs_iterative(graph, 'A')\n"
   ]
  },
  {
   "cell_type": "code",
   "execution_count": 2,
   "metadata": {},
   "outputs": [
    {
     "name": "stdout",
     "output_type": "stream",
     "text": [
      "A B D E F C C "
     ]
    },
    {
     "data": {
      "text/plain": [
       "{'A', 'B', 'C', 'D', 'E', 'F'}"
      ]
     },
     "execution_count": 2,
     "metadata": {},
     "output_type": "execute_result"
    }
   ],
   "source": [
    "#깊이 우선 탐색. 재귀 사용\n",
    "def dfs(graph, start, visited=None):\n",
    "    if visited is None:\n",
    "        visited = set()\n",
    "    visited.add(start)\n",
    "    print(start, end=' ')\n",
    "    \n",
    "    for next in graph[start] - visited:\n",
    "        dfs(graph, next, visited)\n",
    "    return visited\n",
    "\n",
    "graph = {\n",
    "    'A': {'B', 'C'},\n",
    "    'B': {'A', 'D', 'E'},\n",
    "    'C': {'A', 'F'},\n",
    "    'D': {'B'},\n",
    "    'E': {'B', 'F'},\n",
    "    'F': {'C', 'E'}\n",
    "}\n",
    "\n",
    "dfs(graph, 'A')\n"
   ]
  },
  {
   "cell_type": "markdown",
   "metadata": {},
   "source": [
    "# 너비 우선 탐색(BFS)\n",
    "\n",
    " * 너비 우선 탐색은 출발 노드에서 시작하여 인접한 모든 노드를 먼저 탐색한 후, 다음 깊이의 노드들을 탐색하는 방법이다. 주로 큐 자료 구조를 이용하여 구현한다.\n",
    "\n",
    " * 동작 원리\n",
    "    1. 시작 정점을 큐에 넣고, 방문했다고 표시한다.\n",
    "    2. 큐에서 정점을 하나 꺼내어, 해당 정점의 인접 정점들을 모두 큐에 넣는다.\n",
    "    3. 인접한 정점들 중 방문하지 않은 정점을 큐에 넣고, 방문했다고 표시한다.\n",
    "    4. 큐가 빌 때까지 2번과 3번 과정을 반복한다.\n",
    "    "
   ]
  },
  {
   "cell_type": "code",
   "execution_count": 4,
   "metadata": {},
   "outputs": [
    {
     "name": "stdout",
     "output_type": "stream",
     "text": [
      "A B C D E F "
     ]
    }
   ],
   "source": [
    "# 너비 우선 탐색. \n",
    "from collections import deque\n",
    "\n",
    "def bfs(graph, start):\n",
    "    visited = set()  # 방문한 노드들을 저장하는 집합\n",
    "    queue = deque([start])  # 탐색할 노드를 저장하는 큐\n",
    "    visited.add(start)  # 시작 노드를 방문했다고 표시\n",
    "    \n",
    "    while queue:\n",
    "        vertex = queue.popleft()  # 큐에서 노드를 하나 꺼냅니다\n",
    "        print(vertex, end=' ')  # 현재 노드를 출력합니다\n",
    "        \n",
    "        for neighbor in graph[vertex]:  # 현재 노드의 인접한 노드들을 확인합니다\n",
    "            if neighbor not in visited:  # 인접한 노드가 방문되지 않았다면\n",
    "                visited.add(neighbor)  # 방문했다고 표시합니다\n",
    "                queue.append(neighbor)  # 큐에 추가합니다\n",
    "\n",
    "# 그래프 정의\n",
    "graph = {\n",
    "    'A': {'B', 'C'},\n",
    "    'B': {'A', 'D', 'E'},\n",
    "    'C': {'A', 'F'},\n",
    "    'D': {'B'},\n",
    "    'E': {'B', 'F'},\n",
    "    'F': {'C', 'E'}\n",
    "}\n",
    "\n",
    "# BFS 실행\n",
    "bfs(graph, 'A')\n",
    "\n"
   ]
  }
 ],
 "metadata": {
  "kernelspec": {
   "display_name": "Python 3",
   "language": "python",
   "name": "python3"
  },
  "language_info": {
   "codemirror_mode": {
    "name": "ipython",
    "version": 3
   },
   "file_extension": ".py",
   "mimetype": "text/x-python",
   "name": "python",
   "nbconvert_exporter": "python",
   "pygments_lexer": "ipython3",
   "version": "3.11.9"
  }
 },
 "nbformat": 4,
 "nbformat_minor": 2
}
