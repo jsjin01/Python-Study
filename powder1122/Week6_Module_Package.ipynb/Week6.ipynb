{
 "cells": [
  {
   "cell_type": "markdown",
   "metadata": {},
   "source": [
    "# 모듈\n",
    "\n",
    "* 함수나 클래스를 모아서 정의해 놓은 파일(.py)\n",
    "* 파이썬으로 프로그램을 작성할 때 다른 py파일(모듈)을 불러와서 활용\n",
    "* from, import를 이용하여 불러오기\n",
    "* 모듈을 사용하여 코드를 더 작은 단위로 나누어 관리할 수 있으며, 이를 통해 코드의 재사용성과 가독성이 높아진다.\n",
    "\n",
    "# 모듈 파일에 내부 코드가 있는 경우\n",
    "* import시 해당 .py 파일을 불러오는데 이 때 내부의 코드가 동작된다.\n",
    "* 모듈로서 파일을 만든다면 클래스, 메서드 이외의 일반 코드는 작성하지 않는 것이 좋다.\n",
    "\n",
    "예시)\n",
    "if __name__ == \"__main__\":\n",
    "    print('myModule에서 작성된 코드')\n",
    "\n",
    "이런 식으로 코드를 작성하여 불러올 때 실행되지 않돌록 작성하는것이 좋다.\n",
    "\n",
    "# __name__ 변수 이용\n",
    "* __name__ 변수는 파이썬이 내부적으로 사용하는 특별한 변수 이름이다. 파이썬 인터프리터가 모듈을 불러오면 모듈마나 존재하는 변수로, 직접 파일을 실행 시 _name__ 변수에 __main__ 값이 저장된다. 반대로 다른 파이썬 모듈에서 import할 경우 __name__ 변수에 모듈이름 값이 저장된다.\n",
    "* 따라서, 다른 곳에서 불려질 때 일반적인 기능이 동작하지 않도록 하기 때문에 모듈의 동작을 확인할 때 사용하기 좋다.\n",
    "\n",
    "# 모듈 경로 확인(절대적)\n",
    "\n",
    "import sys\n",
    "print(sys.path)\n",
    "\n",
    "import 시 해당 모듈의 경로를 찾는 메서드\n",
    "\n",
    "* 기본적으로 파이썬에서 Module을 검색하는 순서(없으면 아래 순서로)\n",
    "1. 현재 디렉토리 경로\n",
    "2. 파이썬이 설치된 경로에서\n",
    "    - DLLs\n",
    "    - lib\n",
    "    site-packages\n",
    "3. PYTHONPATH 환경변수에 등록된 경로\n",
    "4. 파이썬 코드 압축파일(zip)\n",
    "\n",
    "* sys.path.append(Object)를 이용하여 직접 추가 가능\n",
    "\n"
   ]
  },
  {
   "cell_type": "code",
   "execution_count": null,
   "metadata": {},
   "outputs": [],
   "source": [
    "import mymod\n",
    "import random\n",
    "\n",
    "result = mymod.mysum(10,20)\n",
    "print(result)\n",
    "\n",
    "print(random.randrange(10))"
   ]
  },
  {
   "cell_type": "code",
   "execution_count": null,
   "metadata": {},
   "outputs": [],
   "source": [
    "#import myModule를 사용하면 메서드 사용 시 메서드.함수 이름 을로 사용해야 한다.\n",
    "\n",
    "from myModule import mySum, myMin\n",
    "#이렇게 사용하면 메서드를 바로 쓸 수 있다.\n",
    "\n",
    "retult = mySum(10,20)\n",
    "print(result)\n",
    "\n",
    "result = myMin(10,20)\n",
    "print(result)\n",
    "\n"
   ]
  },
  {
   "cell_type": "code",
   "execution_count": null,
   "metadata": {},
   "outputs": [],
   "source": [
    "#만약 메서드가 너무 많으면 *을 사용해서 모두 사용할 수 있다.\n",
    "from myModule import *\n",
    "# 따로 정하는 것이 안전하다.\n",
    "\n",
    "\n",
    "retult = mySum(10,20)\n",
    "print(result)\n",
    "\n",
    "result = myMin(10,20)\n",
    "print(result)"
   ]
  },
  {
   "cell_type": "code",
   "execution_count": null,
   "metadata": {},
   "outputs": [],
   "source": [
    "from myModule import mySum as ms \n",
    "#mySum의 별명을 지정\n",
    "import myModule as mm\n",
    "#myModule의 별명을 지정\n",
    "\n",
    "retult = ms(10,20)\n",
    "print(result)\n",
    "\n",
    "result = mm.myMin(10,20)\n",
    "print(result)"
   ]
  },
  {
   "cell_type": "code",
   "execution_count": null,
   "metadata": {},
   "outputs": [],
   "source": [
    "#__name__ 이용하기\n",
    "if __name__ ==\"__main__\":\n",
    "    print(\"main\")\n",
    "\n",
    "print(\"This file's __name__:\", __name__)\n"
   ]
  },
  {
   "cell_type": "code",
   "execution_count": null,
   "metadata": {},
   "outputs": [],
   "source": [
    "#모듈 찾는 경로\n",
    "import sys\n",
    "\n",
    "sys.path\n",
    "sys.path.append('D:\\\\my\\\\') #D드라이브 안에 my에서 찾는다"
   ]
  },
  {
   "cell_type": "markdown",
   "metadata": {},
   "source": [
    "# 패키지\n",
    "\n",
    "* 파이썬 모듈을 관리하는 폴더\n",
    "* import를 이용하여 해당 모듈을 포함하여 사용\n",
    "* 함수는 import 불가\n",
    "\n",
    "\n",
    "Week6_Module_Package.ipynb 파일이 하나의 패키지라고 볼 수 있음\n",
    "\n",
    "# 사용 방법\n",
    "\n",
    "* import 패키지1.패키지2.모듈 이와 같은 방법으로 사용 가능하다. 패키지1 안의 패키지2 안에 있는 모듈을 불러온다.\n",
    "* .을 이용하여 패키지와 패키지, 모듈을 구분한다.\n",
    "* 모듈 불러오기와 유사한 방법으로 사용 가능하다.\n",
    "\n",
    "# 특징\n",
    "예를 들어 from game.sound import *를 사용하는 경우, game의 __init__.py 파일에 영향을 받는다.\n",
    "game.sound.__init__.py 파일에 __all__ = ['scho']#에코 모듈 등록 이렇게 작성되어 있다면, 외부에서 import할 수 있는 이름이 echo이며, 이 이름을 등록해야 한다.\n",
    " - __all__ = ['echo']는 echo.py는 외부에서 사용할 수 있도록 허가한 것이라고 보면 된다.\n",
    "\n",
    "echo.echo_test()\n",
    "wav.wzv_test()  #이 경우 sound 파일에 포함되어 있지만, __init__.py 파일에 등록되지 않은 모듈이기에 import *를 했음에도 포함되지 않은 것을 알 수 있다.\n",
    " - sound의 __init__.py을__all__ = ['echo','wav']로 수정하면 wav도 포함시킬 수 있다.\n",
    "\n",
    "*즉, __all__은 import *을 했을 때 얼마만큼 포함될 수 있는지를 허가해주는 목록이다.\n",
    "\n",
    "# 상대적 패키지 경로\n",
    "\n",
    "* 특정 패키지의 모듈이 다른 패키지의 모듈을 포함하는 형태\n",
    "* 직접 다른 패키지의 선언 가능\n",
    "* 현재 모듈의 위치에서 필요한 모듈을 포함하도록 표현 가능\n",
    "    1. .. : 상위 패키지\n",
    "    2. . : 현재 패키지\n",
    "\n",
    "* 예시\n",
    "현재 위치는 game 아래에 있는 render 패키지 안의 render.py 모듈.\n",
    "\n",
    "#절대 경로 사용\n",
    "from game.sound.echo import echo_test()\n",
    "\n",
    "#상대 경로 사용\n",
    "from ..sound.echo import echo_test\n",
    "\n",
    "def render_test():\n",
    "    print(\"render\")\n",
    "    echo_test()\n"
   ]
  },
  {
   "cell_type": "code",
   "execution_count": null,
   "metadata": {},
   "outputs": [],
   "source": [
    "#패키지 경로 예제. 현재 render.py 모듈인 상황\n",
    "#절대 경로 사용\n",
    "from game.sound.echo import echo_test()\n",
    "#최상위 패키지 game 아래 sound 패키지 아래 echo 모듈 안의 echo_test() 메서드를 import한다.\n",
    "\n",
    "def render_test():\n",
    "    print(\"render\")\n",
    "    echo_test()\n",
    "\n"
   ]
  },
  {
   "cell_type": "code",
   "execution_count": null,
   "metadata": {},
   "outputs": [],
   "source": [
    "#패키지 경로 예제. 현재 render.py 모듈인 상황\n",
    "#상대 경로 사용\n",
    "from ..sound.echo import echo_test\n",
    "#현재보다 상위 패키지에서 sound를 찾고 그 아래 echo.py 모듈을 찾아 echo_test()메서드를 import 한다.\n",
    "\n",
    "def render_test():\n",
    "    print(\"render\")\n",
    "    echo_test()\n"
   ]
  }
 ],
 "metadata": {
  "language_info": {
   "name": "python"
  }
 },
 "nbformat": 4,
 "nbformat_minor": 2
}
