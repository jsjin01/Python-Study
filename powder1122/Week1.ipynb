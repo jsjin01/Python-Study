#변수
a = 1

print(type(a))

b = 4.2e10
print(b)
print(type(b))

#format
a = "abc{age} abc {name}".format(name="김", age=20)
print(a)

#문자열 개수 세기
a = "hobby"

print(a.count('b'))   #b가 들어가는 횟수
print(a.find('b'))    #b의 인덱스 번호호

#문자열 삽입
a = ","
print(a.join('abcd'))

#소문자를 대문자로 바꾸기
a = "hi"
print(a.upper())

#튜플
t1 = (1,2,'a','b')
#t1[0] = 2 불가능. 인덱싱, 슬라이싱은 가능.
#a = a*3의 경우 a*3으로 새롭게 정의하는 것. 수정이 아님

#딕셔너리
dic = {'name':'ERIC','age':15}
print(dic)

a = {1:'a'}
print(a)

a['name'] = "익명"
print(a)

del a[1] #삭제 시 키를 통해해 삭제
print(a)

print(a.keys()) #키만 출력. 
print(a.values()) #값만 출력
print(a.items()) #키, 값 쌍으로 출력
for v in a.keys():
    print("키:",v)
for k, v in dic.items():
    print(k,v)

#a.clear() # 모두 지우기
#a[4]의 경우 해당하는 키가 없으면 오류가 발생하지만 a.get(4)의 경우 None이 출력된다.
#a.get(4,'없음')으로 없는 경우 리턴할 값을 지정할 수 있다.
#print(4 in a)를 통해 키가 딕셔너리 안에 있는지 불리언 값으로 확인 가능

#리스트
l1 = [1,2,2,3,3]
newList = list(set(l1)) #리스트의 중복을 제거한 후 다시 리스트로 만듦듦
print(newList)

#교집합 &
s1 = set([1,2,3,4,5,6])
s2 = set([4,5,6,7,8,9])
print(s1 & s2) #print(s1.intersection(s2))로도 사용 가능

#합집합
print(s1 | s2) # == s1.union(s2)

#차집합
print(s1 - s2) # == s1.difference(s2)

#값 추가 add, update
s1.add(7) #한 개 추가가
print(s1)
s1.update([7,8,9]) # 여러개 추가

#특정 값 제거
s1.remove(7)
print(s1)

#불
a = "가"
if a:
    print(a)

b = [1,2,3,4]
while b:
    b.pop()
    print(b)
