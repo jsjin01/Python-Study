{
 "cells": [
  {
   "cell_type": "code",
   "execution_count": 19,
   "metadata": {},
   "outputs": [
    {
     "name": "stdout",
     "output_type": "stream",
     "text": [
      "10\n",
      "4\n",
      "21\n",
      "2\n",
      "1\n"
     ]
    }
   ],
   "source": [
    "A, B = input().split()\n",
    "A = int(A)\n",
    "B = int(B)\n",
    "if A <= 0 or B >= 10001:\n",
    "    print(\"False\")\n",
    "else:\n",
    "    print(A + B)\n",
    "    print(A - B)\n",
    "    print(A * B)\n",
    "    print(A // B)\n",
    "    print(A % B)"
   ]
  },
  {
   "cell_type": "code",
   "execution_count": 24,
   "metadata": {},
   "outputs": [
    {
     "name": "stdout",
     "output_type": "stream",
     "text": [
      "s??!\n"
     ]
    }
   ],
   "source": [
    "a = input()\n",
    "print(a +\"??!\")"
   ]
  },
  {
   "cell_type": "code",
   "execution_count": 23,
   "metadata": {},
   "outputs": [
    {
     "name": "stdout",
     "output_type": "stream",
     "text": [
      "1998\n"
     ]
    }
   ],
   "source": [
    "a = input()\n",
    "a = int(a) - 543\n",
    "print(a)\n",
    "\n"
   ]
  },
  {
   "cell_type": "code",
   "execution_count": 25,
   "metadata": {},
   "outputs": [
    {
     "name": "stdout",
     "output_type": "stream",
     "text": [
      "1\n",
      "1\n",
      "0\n",
      "0\n"
     ]
    }
   ],
   "source": [
    "A, B, C = map(int, input().split())\n",
    "if A <= 1 or C >= 10001:\n",
    "    print(\"False\")\n",
    "else:\n",
    "    print((A + B) % C)\n",
    "    print(((A % C) + (B % C)) % C)\n",
    "    print((A * B) % C)\n",
    "    print(((A % C) * (B % C)) % C)"
   ]
  },
  {
   "cell_type": "code",
   "execution_count": 58,
   "metadata": {},
   "outputs": [
    {
     "ename": "TypeError",
     "evalue": "can't multiply sequence by non-int of type 'str'",
     "output_type": "error",
     "traceback": [
      "\u001b[1;31m---------------------------------------------------------------------------\u001b[0m",
      "\u001b[1;31mTypeError\u001b[0m                                 Traceback (most recent call last)",
      "Cell \u001b[1;32mIn[58], line 9\u001b[0m\n\u001b[0;32m      5\u001b[0m     C \u001b[38;5;241m=\u001b[39m \u001b[38;5;28minput\u001b[39m()\n\u001b[0;32m      6\u001b[0m     b\u001b[38;5;241m.\u001b[39mappend(C)\n\u001b[1;32m----> 9\u001b[0m \u001b[38;5;28mprint\u001b[39m(\u001b[43ma\u001b[49m\u001b[43m \u001b[49m\u001b[38;5;241;43m*\u001b[39;49m\u001b[43m \u001b[49m\u001b[43m(\u001b[49m\u001b[43mb\u001b[49m\u001b[43m[\u001b[49m\u001b[38;5;241;43m2\u001b[39;49m\u001b[43m]\u001b[49m\u001b[43m)\u001b[49m)\n\u001b[0;32m     10\u001b[0m \u001b[38;5;28mprint\u001b[39m(a \u001b[38;5;241m*\u001b[39m (b[\u001b[38;5;241m1\u001b[39m]))\n\u001b[0;32m     11\u001b[0m \u001b[38;5;28mprint\u001b[39m(a \u001b[38;5;241m*\u001b[39m (b[\u001b[38;5;241m0\u001b[39m]))\n",
      "\u001b[1;31mTypeError\u001b[0m: can't multiply sequence by non-int of type 'str'"
     ]
    }
   ],
   "source": [
    "a = input()\n",
    "b = []\n",
    "\n",
    "for i in range (3):\n",
    "    C = input()\n",
    "    b.append(C)\n",
    "\n",
    "\n",
    "print(a * (b[2]))\n",
    "print(a * (b[1]))\n",
    "print(a * (b[0]))\n",
    "print(a * b)"
   ]
  },
  {
   "cell_type": "code",
   "execution_count": 59,
   "metadata": {},
   "outputs": [
    {
     "name": "stdout",
     "output_type": "stream",
     "text": [
      "2360\n",
      "3776\n",
      "1416\n",
      "181720\n"
     ]
    }
   ],
   "source": [
    "A = int(input())\n",
    "\n",
    "B = input()\n",
    "\n",
    " \n",
    "\n",
    "print(A*int(B[2]))\n",
    "\n",
    "print(A*int(B[1]))\n",
    "\n",
    "print(A*int(B[0]))\n",
    "\n",
    "print(A*int(B))"
   ]
  },
  {
   "cell_type": "code",
   "execution_count": null,
   "metadata": {},
   "outputs": [],
   "source": [
    "A = int(input())\n",
    "\n",
    "B = input()\n",
    "\n",
    " \n",
    "\n",
    "for i in range(3, 0, -1) :\n",
    "\n",
    "    print(A * int(B[i - 1]))\n",
    "\n",
    " \n",
    "\n",
    "print(A * int(B))"
   ]
  },
  {
   "cell_type": "code",
   "execution_count": 12,
   "metadata": {},
   "outputs": [
    {
     "name": "stdout",
     "output_type": "stream",
     "text": [
      "7931\n"
     ]
    }
   ],
   "source": [
    "a = list(map(int, input().split()))\n",
    "\n",
    "\n",
    "print(sum(a))"
   ]
  },
  {
   "cell_type": "code",
   "execution_count": 13,
   "metadata": {},
   "outputs": [
    {
     "name": "stdout",
     "output_type": "stream",
     "text": [
      "\\    /\\ \n",
      " )  ( ') \n",
      "(  /  ) \n",
      " \\(__)|\n"
     ]
    }
   ],
   "source": [
    "print(\"\\    /\\ \\n )  ( ') \\n(  /  ) \\n \\(__)|\")"
   ]
  },
  {
   "cell_type": "code",
   "execution_count": 20,
   "metadata": {},
   "outputs": [
    {
     "name": "stdout",
     "output_type": "stream",
     "text": [
      "|\\_/|\n",
      "|q p|   /}\n",
      "( 0 )\"\"\"\\\n",
      "|\"^\"`    |\n",
      "||_/=\\__|\n"
     ]
    }
   ],
   "source": [
    "print(\"|\\_/|\")\n",
    "print(\"|q p|   /}\")\n",
    "print('( 0 )\\\"\\\"\\\"\\\\')\n",
    "print('|\\\"^\\\"`    |')\n",
    "print(\"||_/=\\\\\\\\__|\")"
   ]
  },
  {
   "cell_type": "code",
   "execution_count": 25,
   "metadata": {},
   "outputs": [
    {
     "name": "stdout",
     "output_type": "stream",
     "text": [
      "==\n"
     ]
    }
   ],
   "source": [
    "#A >= -10000 B <= 10000\n",
    "\n",
    "A, B = map(int, input().split())\n",
    "\n",
    "if A > B:\n",
    "    print(\">\")\n",
    "elif A < B:\n",
    "    print(\"<\")\n",
    "else:\n",
    "    print(\"==\")"
   ]
  },
  {
   "cell_type": "code",
   "execution_count": 27,
   "metadata": {},
   "outputs": [
    {
     "name": "stdout",
     "output_type": "stream",
     "text": [
      "A\n"
     ]
    }
   ],
   "source": [
    "score = int(input())\n",
    "\n",
    "if 90 <= score <=100:\n",
    "    print(\"A\")\n",
    "elif 80 <= score <=89:\n",
    "    print(\"B\")\n",
    "elif 70 <= score <=79:\n",
    "    print(\"C\")\n",
    "elif 60 <= score <=69:\n",
    "    print(\"D\")\n",
    "else:\n",
    "    print(\"F\")"
   ]
  },
  {
   "cell_type": "code",
   "execution_count": 59,
   "metadata": {},
   "outputs": [
    {
     "name": "stdout",
     "output_type": "stream",
     "text": [
      "1\n"
     ]
    }
   ],
   "source": [
    "year = int(input())\n",
    "\n",
    "if year % 4 == 0  and (year % 100 != 0 or year % 400 == 0 ):\n",
    "    print(\"1\")\n",
    "else:\n",
    "    print(\"0\")"
   ]
  },
  {
   "cell_type": "code",
   "execution_count": 60,
   "metadata": {},
   "outputs": [
    {
     "name": "stdout",
     "output_type": "stream",
     "text": [
      "1\n"
     ]
    }
   ],
   "source": [
    "# -1000 <= x <= 1000, x != 0\n",
    "# -1000 <= y <= 1000, y != 0\n",
    "x = int(input())\n",
    "y = int(input())\n",
    "if x > 0 and y > 0:\n",
    "    print(1)\n",
    "elif x < 0 and y > 0:\n",
    "    print(2)\n",
    "elif x < 0 and y < 0:\n",
    "    print(3)\n",
    "else:\n",
    "    print(4)"
   ]
  },
  {
   "cell_type": "code",
   "execution_count": 5,
   "metadata": {},
   "outputs": [
    {
     "name": "stdout",
     "output_type": "stream",
     "text": [
      "22 55\n"
     ]
    }
   ],
   "source": [
    "# 0 <= H <= 23 0 <= M <= 59\n",
    "\n",
    "H = int(input())\n",
    "M = int(input())\n",
    "if M <= 44:\n",
    "    M = M + 15 \n",
    "    if H ==0:\n",
    "        H = 23\n",
    "    else:\n",
    "        H = H - 1\n",
    "else:\n",
    "    M = M - 45\n",
    "\n",
    "print(H, M)\n",
    "    \n",
    "    \n",
    "    \n"
   ]
  },
  {
   "cell_type": "code",
   "execution_count": null,
   "metadata": {},
   "outputs": [
    {
     "name": "stdout",
     "output_type": "stream",
     "text": [
      "12 37\n"
     ]
    }
   ],
   "source": [
    "H = int(input())\n",
    "M = int(input())\n",
    "Cooking_M = int(input())\n",
    "Minute = M + Cooking_M\n",
    "\n",
    "if Minute > 60:\n",
    "    while (Minute > 59):\n",
    "        H = H + 1\n",
    "        Minute = Minute - 60\n",
    "        if Minute < 60:\n",
    "            break\n",
    "\n",
    "elif Minute == 60:\n",
    "    H = H + 1\n",
    "    Minute = 0\n",
    "\n",
    "else:\n",
    "    Minute\n",
    "\n",
    "if H > 24:\n",
    "    while True:\n",
    "        H = H - 24\n",
    "        if H < 24:\n",
    "            break\n",
    "\n",
    "elif H == 24:\n",
    "    H = 0\n",
    "\n",
    "else:\n",
    "    H\n",
    "\n",
    "print(H, Minute)"
   ]
  },
  {
   "cell_type": "code",
   "execution_count": 20,
   "metadata": {},
   "outputs": [
    {
     "name": "stdout",
     "output_type": "stream",
     "text": [
      "1200\n"
     ]
    }
   ],
   "source": [
    "a, b, c= map(int, input().split())\n",
    "if a == b == c:\n",
    "    print(10000 + a * 1000)\n",
    "elif a != b != c:\n",
    "    print(max(a, b, c) * 100)\n",
    "else:\n",
    "    if a == b:\n",
    "        print(1000 + a * 100)\n",
    "    elif b == c:\n",
    "        print(1000 + b * 100)\n",
    "    else:\n",
    "        print(1000 + c * 100)"
   ]
  }
 ],
 "metadata": {
  "kernelspec": {
   "display_name": "Python 3",
   "language": "python",
   "name": "python3"
  },
  "language_info": {
   "codemirror_mode": {
    "name": "ipython",
    "version": 3
   },
   "file_extension": ".py",
   "mimetype": "text/x-python",
   "name": "python",
   "nbconvert_exporter": "python",
   "pygments_lexer": "ipython3",
   "version": "3.11.1"
  }
 },
 "nbformat": 4,
 "nbformat_minor": 2
}
